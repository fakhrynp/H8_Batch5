{
  "nbformat": 4,
  "nbformat_minor": 0,
  "metadata": {
    "colab": {
      "provenance": []
    },
    "kernelspec": {
      "name": "python3",
      "display_name": "Python 3"
    },
    "language_info": {
      "name": "python"
    }
  },
  "cells": [
    {
      "cell_type": "markdown",
      "source": [
        "**Nama : Naufal Fakhry Pratama, Kode-peserta: PYTN-KS18-014**"
      ],
      "metadata": {
        "id": "gqaiDVBpxgkH"
      }
    },
    {
      "cell_type": "markdown",
      "source": [
        "(*function* **pertemuan 3**)"
      ],
      "metadata": {
        "id": "dVV0xdrDxzoH"
      }
    },
    {
      "cell_type": "markdown",
      "source": [
        "**SOAL 1**\n",
        "\n",
        "Buatlah sebuah fungsi untuk memasukkan sekumpulan angka ke dalam sebuah list. Data yang\n",
        "dimasukkan tersebut kemudian ditampilkan nilainya yang sudah dikalikan dengan 5."
      ],
      "metadata": {
        "id": "rp5vH-3Fx_3B"
      }
    },
    {
      "cell_type": "code",
      "execution_count": null,
      "metadata": {
        "id": "-LFsRgt-xX7K",
        "colab": {
          "base_uri": "https://localhost:8080/"
        },
        "outputId": "c929a581-9fd5-4ceb-b765-205319d555c2"
      },
      "outputs": [
        {
          "output_type": "stream",
          "name": "stdout",
          "text": [
            "Masukkan jumlah angka yang ingin dimasukkan: 4\n",
            "Masukkan angka ke-1: 1\n",
            "Masukkan angka ke-2: 2\n",
            "Masukkan angka ke-3: 3\n",
            "Masukkan angka ke-4: 4\n",
            "Hasil angka setelah dikalikan dengan 5:\n",
            "5\n",
            "10\n",
            "15\n",
            "20\n"
          ]
        }
      ],
      "source": [
        "angka_list = []\n",
        "\n",
        "n = int(input(\"Masukkan jumlah angka yang ingin dimasukkan: \"))\n",
        "for i in range(n):\n",
        "    angka = int(input(f\"Masukkan angka ke-{i+1}: \"))\n",
        "    angka_list.append(angka)\n",
        "\n",
        "hasil_kali = [angka * 5 for angka in angka_list]\n",
        "\n",
        "print(\"Hasil angka setelah dikalikan dengan 5:\")\n",
        "for hasil in hasil_kali:\n",
        "    print(hasil)\n",
        "\n",
        "\n"
      ]
    },
    {
      "cell_type": "markdown",
      "source": [
        "**SOAL 2**\n",
        "\n",
        "Rumus yang tertera di atas adalah rumus dari variansi. Coba buatlah fungsi untuk membuat\n",
        "rumus variansi tersebut dalam Bahasa python. Buatlah 3 fungsi, pertama membuat inputan data,\n",
        "kedua membuat rata-rata, ketiga membuat variansi dan juga standar deviasi. Catatan : fungsi\n",
        "rata-rata dan standar deviasi saling berhubungan."
      ],
      "metadata": {
        "id": "-C_QmlMDHMja"
      }
    },
    {
      "cell_type": "code",
      "source": [],
      "metadata": {
        "id": "8kPZwrgnxpof"
      },
      "execution_count": null,
      "outputs": []
    },
    {
      "cell_type": "markdown",
      "source": [
        "**SOAL 3**\n",
        "\n",
        "Buatlah sebuah fungsi (tidak menggunakan fungsi yang sudah disediakan oleh python) untuk\n",
        "melakukan sorting secara ascending dari sebuah list. Pertama-tama, buatlah sebuah inputan\n",
        "untuk memasukan listnya. Tampilkan juga nilai terkecil dan terbesar dari list data tersebut tanpa\n",
        "menggunakan perintah atau fungsi yang telah tersedia oleh python."
      ],
      "metadata": {
        "id": "uF4crfilHiA1"
      }
    },
    {
      "cell_type": "code",
      "source": [
        "def custom_sort(urutAngka):\n",
        "    n = len(urutAngka)\n",
        "    for i in range(n):\n",
        "        for j in range(0, n - i - 1):\n",
        "            if urutAngka[j] > urutAngka[j + 1]:\n",
        "                urutAngka[j], urutAngka[j + 1] = urutAngka[j + 1], urutAngka[j]\n",
        "\n",
        "def find_min_max(urutAngka):\n",
        "    min_val = urutAngka[0]\n",
        "    max_val = urutAngka[0]\n",
        "\n",
        "    for num in urutAngka:\n",
        "        if num < min_val:\n",
        "            min_val = num\n",
        "        elif num > max_val:\n",
        "            max_val = num\n",
        "\n",
        "    return min_val, max_val\n",
        "\n",
        "input_list = input(\"Masukkan list angka (pisahkan dengan spasi): \")\n",
        "angka_list = [int(x) for x in input_list.split()]\n",
        "\n",
        "custom_sort(angka_list)\n",
        "\n",
        "print(\"List setelah diurutkan secara ascending:\", angka_list)\n",
        "\n",
        "min_val, max_val = find_min_max(angka_list)\n",
        "print(\"Nilai terkecil:\", min_val)\n",
        "print(\"Nilai terbesar:\", max_val)\n"
      ],
      "metadata": {
        "colab": {
          "base_uri": "https://localhost:8080/"
        },
        "id": "bvW6zNgcHmvp",
        "outputId": "eb33eafa-26c4-47a4-e861-33a7163e79d8"
      },
      "execution_count": null,
      "outputs": [
        {
          "output_type": "stream",
          "name": "stdout",
          "text": [
            "Masukkan list angka (pisahkan dengan spasi): 12 13 55 56 74 32\n",
            "List setelah diurutkan secara ascending: [12, 13, 32, 55, 56, 74]\n",
            "Nilai terkecil: 12\n",
            "Nilai terbesar: 74\n"
          ]
        }
      ]
    },
    {
      "cell_type": "markdown",
      "source": [
        "**SOAL 4**\n",
        "\n",
        "Buat sebuah fungsi untuk membalik setiap kata yang ada dalam sebuah kalimat. Berikut ini\n",
        "contoh outputnya."
      ],
      "metadata": {
        "id": "uwvQmCKHOQDF"
      }
    },
    {
      "cell_type": "code",
      "source": [
        "def acakKalimat(kalimat):\n",
        "    words = kalimat.split()\n",
        "    acakKata = [word[::-1] for word in words]\n",
        "    acakKalimat = \" \".join(acakKata)\n",
        "\n",
        "    return acakKalimat\n",
        "\n",
        "inputKalimat = input(\"Masukkan kalimat: \")\n",
        "\n",
        "hasil_balik = acakKalimat(inputKalimat)\n",
        "\n",
        "print(\"Kalimat setelah kata-kata dibalik:\", hasil_balik)\n"
      ],
      "metadata": {
        "colab": {
          "base_uri": "https://localhost:8080/"
        },
        "id": "VWdTzmr9OVNb",
        "outputId": "082ce7b8-6c0b-4f1f-e5d6-c1a777f4a236"
      },
      "execution_count": 1,
      "outputs": [
        {
          "output_type": "stream",
          "name": "stdout",
          "text": [
            "Masukkan kalimat: coba beberapa kalimat langsung\n",
            "Kalimat setelah kata-kata dibalik: aboc aparebeb tamilak gnusgnal\n"
          ]
        }
      ]
    },
    {
      "cell_type": "markdown",
      "source": [
        "**SOAL 5**\n",
        "\n",
        "Buatlah sebuah fungsi untuk menghitung jumlah upper case dan lower case character."
      ],
      "metadata": {
        "id": "dNbQZ5e3PjZy"
      }
    },
    {
      "cell_type": "code",
      "source": [
        "def count_upper_lower_case(s):\n",
        "    upper_count = 0\n",
        "    lower_count = 0\n",
        "\n",
        "    for char in s:\n",
        "        if char.isupper():\n",
        "            upper_count += 1\n",
        "        elif char.islower():\n",
        "            lower_count += 1\n",
        "\n",
        "    return upper_count, lower_count\n",
        "\n",
        "\n",
        "input_string = input(\"Masukkan sebuah string: \")\n",
        "\n",
        "upper_count, lower_count = count_upper_lower_case(input_string)\n",
        "\n",
        "print(\"Jumlah huruf kapital:\", upper_count)\n",
        "print(\"Jumlah huruf kecil:\", lower_count)\n"
      ],
      "metadata": {
        "colab": {
          "base_uri": "https://localhost:8080/"
        },
        "id": "bCqpFKyLP_xZ",
        "outputId": "8af89609-a035-4d24-e4f5-8fcb6219b1e7"
      },
      "execution_count": 2,
      "outputs": [
        {
          "output_type": "stream",
          "name": "stdout",
          "text": [
            "Masukkan sebuah string: ASDHJA asdjashdkjasd\n",
            "Jumlah huruf kapital: 6\n",
            "Jumlah huruf kecil: 13\n"
          ]
        }
      ]
    }
  ]
}