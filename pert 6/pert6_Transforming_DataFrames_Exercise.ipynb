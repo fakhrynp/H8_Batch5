{
 "cells": [
  {
   "cell_type": "markdown",
   "metadata": {},
   "source": [
    "NAUFAL FAKHRY PRATAMA (PYTN-KS18-014)"
   ]
  },
  {
   "cell_type": "code",
   "execution_count": 1,
   "metadata": {},
   "outputs": [],
   "source": [
    "# Import pandas using the alias pd\n",
    "import pandas as pd"
   ]
  },
  {
   "cell_type": "code",
   "execution_count": 2,
   "metadata": {},
   "outputs": [],
   "source": [
    "df = pd.read_csv ('01. homelessness.csv')"
   ]
  },
  {
   "cell_type": "code",
   "execution_count": 3,
   "metadata": {},
   "outputs": [
    {
     "data": {
      "text/html": [
       "<div>\n",
       "<style scoped>\n",
       "    .dataframe tbody tr th:only-of-type {\n",
       "        vertical-align: middle;\n",
       "    }\n",
       "\n",
       "    .dataframe tbody tr th {\n",
       "        vertical-align: top;\n",
       "    }\n",
       "\n",
       "    .dataframe thead th {\n",
       "        text-align: right;\n",
       "    }\n",
       "</style>\n",
       "<table border=\"1\" class=\"dataframe\">\n",
       "  <thead>\n",
       "    <tr style=\"text-align: right;\">\n",
       "      <th></th>\n",
       "      <th>Unnamed: 0</th>\n",
       "      <th>region</th>\n",
       "      <th>state</th>\n",
       "      <th>individuals</th>\n",
       "      <th>family_members</th>\n",
       "      <th>state_pop</th>\n",
       "    </tr>\n",
       "  </thead>\n",
       "  <tbody>\n",
       "    <tr>\n",
       "      <th>0</th>\n",
       "      <td>0</td>\n",
       "      <td>East South Central</td>\n",
       "      <td>Alabama</td>\n",
       "      <td>2570.0</td>\n",
       "      <td>864.0</td>\n",
       "      <td>4887681</td>\n",
       "    </tr>\n",
       "    <tr>\n",
       "      <th>1</th>\n",
       "      <td>1</td>\n",
       "      <td>Pacific</td>\n",
       "      <td>Alaska</td>\n",
       "      <td>1434.0</td>\n",
       "      <td>582.0</td>\n",
       "      <td>735139</td>\n",
       "    </tr>\n",
       "    <tr>\n",
       "      <th>2</th>\n",
       "      <td>2</td>\n",
       "      <td>Mountain</td>\n",
       "      <td>Arizona</td>\n",
       "      <td>7259.0</td>\n",
       "      <td>2606.0</td>\n",
       "      <td>7158024</td>\n",
       "    </tr>\n",
       "    <tr>\n",
       "      <th>3</th>\n",
       "      <td>3</td>\n",
       "      <td>West South Central</td>\n",
       "      <td>Arkansas</td>\n",
       "      <td>2280.0</td>\n",
       "      <td>432.0</td>\n",
       "      <td>3009733</td>\n",
       "    </tr>\n",
       "    <tr>\n",
       "      <th>4</th>\n",
       "      <td>4</td>\n",
       "      <td>Pacific</td>\n",
       "      <td>California</td>\n",
       "      <td>109008.0</td>\n",
       "      <td>20964.0</td>\n",
       "      <td>39461588</td>\n",
       "    </tr>\n",
       "  </tbody>\n",
       "</table>\n",
       "</div>"
      ],
      "text/plain": [
       "   Unnamed: 0              region       state  individuals  family_members  \\\n",
       "0           0  East South Central     Alabama       2570.0           864.0   \n",
       "1           1             Pacific      Alaska       1434.0           582.0   \n",
       "2           2            Mountain     Arizona       7259.0          2606.0   \n",
       "3           3  West South Central    Arkansas       2280.0           432.0   \n",
       "4           4             Pacific  California     109008.0         20964.0   \n",
       "\n",
       "   state_pop  \n",
       "0    4887681  \n",
       "1     735139  \n",
       "2    7158024  \n",
       "3    3009733  \n",
       "4   39461588  "
      ]
     },
     "execution_count": 3,
     "metadata": {},
     "output_type": "execute_result"
    }
   ],
   "source": [
    "# Print the head of the homelessness data\n",
    "df.head()"
   ]
  },
  {
   "cell_type": "code",
   "execution_count": 4,
   "metadata": {},
   "outputs": [
    {
     "name": "stdout",
     "output_type": "stream",
     "text": [
      "<class 'pandas.core.frame.DataFrame'>\n",
      "RangeIndex: 51 entries, 0 to 50\n",
      "Data columns (total 6 columns):\n",
      " #   Column          Non-Null Count  Dtype  \n",
      "---  ------          --------------  -----  \n",
      " 0   Unnamed: 0      51 non-null     int64  \n",
      " 1   region          51 non-null     object \n",
      " 2   state           51 non-null     object \n",
      " 3   individuals     51 non-null     float64\n",
      " 4   family_members  51 non-null     float64\n",
      " 5   state_pop       51 non-null     int64  \n",
      "dtypes: float64(2), int64(2), object(2)\n",
      "memory usage: 2.5+ KB\n"
     ]
    }
   ],
   "source": [
    "# Print information about homelessness\n",
    "df.info()"
   ]
  },
  {
   "cell_type": "code",
   "execution_count": 6,
   "metadata": {},
   "outputs": [
    {
     "data": {
      "text/plain": [
       "(51, 6)"
      ]
     },
     "execution_count": 6,
     "metadata": {},
     "output_type": "execute_result"
    }
   ],
   "source": [
    "# Print the shape of homelessness\n",
    "df.shape"
   ]
  },
  {
   "cell_type": "code",
   "execution_count": 9,
   "metadata": {
    "id": "aFeAVj_hwI28"
   },
   "outputs": [
    {
     "data": {
      "text/plain": [
       "<bound method NDFrame.describe of     Unnamed: 0              region                 state  individuals  \\\n",
       "0            0  East South Central               Alabama       2570.0   \n",
       "1            1             Pacific                Alaska       1434.0   \n",
       "2            2            Mountain               Arizona       7259.0   \n",
       "3            3  West South Central              Arkansas       2280.0   \n",
       "4            4             Pacific            California     109008.0   \n",
       "5            5            Mountain              Colorado       7607.0   \n",
       "6            6         New England           Connecticut       2280.0   \n",
       "7            7      South Atlantic              Delaware        708.0   \n",
       "8            8      South Atlantic  District of Columbia       3770.0   \n",
       "9            9      South Atlantic               Florida      21443.0   \n",
       "10          10      South Atlantic               Georgia       6943.0   \n",
       "11          11             Pacific                Hawaii       4131.0   \n",
       "12          12            Mountain                 Idaho       1297.0   \n",
       "13          13  East North Central              Illinois       6752.0   \n",
       "14          14  East North Central               Indiana       3776.0   \n",
       "15          15  West North Central                  Iowa       1711.0   \n",
       "16          16  West North Central                Kansas       1443.0   \n",
       "17          17  East South Central              Kentucky       2735.0   \n",
       "18          18  West South Central             Louisiana       2540.0   \n",
       "19          19         New England                 Maine       1450.0   \n",
       "20          20      South Atlantic              Maryland       4914.0   \n",
       "21          21         New England         Massachusetts       6811.0   \n",
       "22          22  East North Central              Michigan       5209.0   \n",
       "23          23  West North Central             Minnesota       3993.0   \n",
       "24          24  East South Central           Mississippi       1024.0   \n",
       "25          25  West North Central              Missouri       3776.0   \n",
       "26          26            Mountain               Montana        983.0   \n",
       "27          27  West North Central              Nebraska       1745.0   \n",
       "28          28            Mountain                Nevada       7058.0   \n",
       "29          29         New England         New Hampshire        835.0   \n",
       "30          30        Mid-Atlantic            New Jersey       6048.0   \n",
       "31          31            Mountain            New Mexico       1949.0   \n",
       "32          32        Mid-Atlantic              New York      39827.0   \n",
       "33          33      South Atlantic        North Carolina       6451.0   \n",
       "34          34  West North Central          North Dakota        467.0   \n",
       "35          35  East North Central                  Ohio       6929.0   \n",
       "36          36  West South Central              Oklahoma       2823.0   \n",
       "37          37             Pacific                Oregon      11139.0   \n",
       "38          38        Mid-Atlantic          Pennsylvania       8163.0   \n",
       "39          39         New England          Rhode Island        747.0   \n",
       "40          40      South Atlantic        South Carolina       3082.0   \n",
       "41          41  West North Central          South Dakota        836.0   \n",
       "42          42  East South Central             Tennessee       6139.0   \n",
       "43          43  West South Central                 Texas      19199.0   \n",
       "44          44            Mountain                  Utah       1904.0   \n",
       "45          45         New England               Vermont        780.0   \n",
       "46          46      South Atlantic              Virginia       3928.0   \n",
       "47          47             Pacific            Washington      16424.0   \n",
       "48          48      South Atlantic         West Virginia       1021.0   \n",
       "49          49  East North Central             Wisconsin       2740.0   \n",
       "50          50            Mountain               Wyoming        434.0   \n",
       "\n",
       "    family_members  state_pop  \n",
       "0            864.0    4887681  \n",
       "1            582.0     735139  \n",
       "2           2606.0    7158024  \n",
       "3            432.0    3009733  \n",
       "4          20964.0   39461588  \n",
       "5           3250.0    5691287  \n",
       "6           1696.0    3571520  \n",
       "7            374.0     965479  \n",
       "8           3134.0     701547  \n",
       "9           9587.0   21244317  \n",
       "10          2556.0   10511131  \n",
       "11          2399.0    1420593  \n",
       "12           715.0    1750536  \n",
       "13          3891.0   12723071  \n",
       "14          1482.0    6695497  \n",
       "15          1038.0    3148618  \n",
       "16           773.0    2911359  \n",
       "17           953.0    4461153  \n",
       "18           519.0    4659690  \n",
       "19          1066.0    1339057  \n",
       "20          2230.0    6035802  \n",
       "21         13257.0    6882635  \n",
       "22          3142.0    9984072  \n",
       "23          3250.0    5606249  \n",
       "24           328.0    2981020  \n",
       "25          2107.0    6121623  \n",
       "26           422.0    1060665  \n",
       "27           676.0    1925614  \n",
       "28           486.0    3027341  \n",
       "29           615.0    1353465  \n",
       "30          3350.0    8886025  \n",
       "31           602.0    2092741  \n",
       "32         52070.0   19530351  \n",
       "33          2817.0   10381615  \n",
       "34            75.0     758080  \n",
       "35          3320.0   11676341  \n",
       "36          1048.0    3940235  \n",
       "37          3337.0    4181886  \n",
       "38          5349.0   12800922  \n",
       "39           354.0    1058287  \n",
       "40           851.0    5084156  \n",
       "41           323.0     878698  \n",
       "42          1744.0    6771631  \n",
       "43          6111.0   28628666  \n",
       "44           972.0    3153550  \n",
       "45           511.0     624358  \n",
       "46          2047.0    8501286  \n",
       "47          5880.0    7523869  \n",
       "48           222.0    1804291  \n",
       "49          2167.0    5807406  \n",
       "50           205.0     577601  >"
      ]
     },
     "execution_count": 9,
     "metadata": {},
     "output_type": "execute_result"
    }
   ],
   "source": [
    "# Print a description of homelessness\n",
    "df.describe"
   ]
  },
  {
   "cell_type": "code",
   "execution_count": 10,
   "metadata": {},
   "outputs": [
    {
     "data": {
      "text/plain": [
       "array([[0, 'East South Central', 'Alabama', 2570.0, 864.0, 4887681],\n",
       "       [1, 'Pacific', 'Alaska', 1434.0, 582.0, 735139],\n",
       "       [2, 'Mountain', 'Arizona', 7259.0, 2606.0, 7158024],\n",
       "       [3, 'West South Central', 'Arkansas', 2280.0, 432.0, 3009733],\n",
       "       [4, 'Pacific', 'California', 109008.0, 20964.0, 39461588],\n",
       "       [5, 'Mountain', 'Colorado', 7607.0, 3250.0, 5691287],\n",
       "       [6, 'New England', 'Connecticut', 2280.0, 1696.0, 3571520],\n",
       "       [7, 'South Atlantic', 'Delaware', 708.0, 374.0, 965479],\n",
       "       [8, 'South Atlantic', 'District of Columbia', 3770.0, 3134.0,\n",
       "        701547],\n",
       "       [9, 'South Atlantic', 'Florida', 21443.0, 9587.0, 21244317],\n",
       "       [10, 'South Atlantic', 'Georgia', 6943.0, 2556.0, 10511131],\n",
       "       [11, 'Pacific', 'Hawaii', 4131.0, 2399.0, 1420593],\n",
       "       [12, 'Mountain', 'Idaho', 1297.0, 715.0, 1750536],\n",
       "       [13, 'East North Central', 'Illinois', 6752.0, 3891.0, 12723071],\n",
       "       [14, 'East North Central', 'Indiana', 3776.0, 1482.0, 6695497],\n",
       "       [15, 'West North Central', 'Iowa', 1711.0, 1038.0, 3148618],\n",
       "       [16, 'West North Central', 'Kansas', 1443.0, 773.0, 2911359],\n",
       "       [17, 'East South Central', 'Kentucky', 2735.0, 953.0, 4461153],\n",
       "       [18, 'West South Central', 'Louisiana', 2540.0, 519.0, 4659690],\n",
       "       [19, 'New England', 'Maine', 1450.0, 1066.0, 1339057],\n",
       "       [20, 'South Atlantic', 'Maryland', 4914.0, 2230.0, 6035802],\n",
       "       [21, 'New England', 'Massachusetts', 6811.0, 13257.0, 6882635],\n",
       "       [22, 'East North Central', 'Michigan', 5209.0, 3142.0, 9984072],\n",
       "       [23, 'West North Central', 'Minnesota', 3993.0, 3250.0, 5606249],\n",
       "       [24, 'East South Central', 'Mississippi', 1024.0, 328.0, 2981020],\n",
       "       [25, 'West North Central', 'Missouri', 3776.0, 2107.0, 6121623],\n",
       "       [26, 'Mountain', 'Montana', 983.0, 422.0, 1060665],\n",
       "       [27, 'West North Central', 'Nebraska', 1745.0, 676.0, 1925614],\n",
       "       [28, 'Mountain', 'Nevada', 7058.0, 486.0, 3027341],\n",
       "       [29, 'New England', 'New Hampshire', 835.0, 615.0, 1353465],\n",
       "       [30, 'Mid-Atlantic', 'New Jersey', 6048.0, 3350.0, 8886025],\n",
       "       [31, 'Mountain', 'New Mexico', 1949.0, 602.0, 2092741],\n",
       "       [32, 'Mid-Atlantic', 'New York', 39827.0, 52070.0, 19530351],\n",
       "       [33, 'South Atlantic', 'North Carolina', 6451.0, 2817.0, 10381615],\n",
       "       [34, 'West North Central', 'North Dakota', 467.0, 75.0, 758080],\n",
       "       [35, 'East North Central', 'Ohio', 6929.0, 3320.0, 11676341],\n",
       "       [36, 'West South Central', 'Oklahoma', 2823.0, 1048.0, 3940235],\n",
       "       [37, 'Pacific', 'Oregon', 11139.0, 3337.0, 4181886],\n",
       "       [38, 'Mid-Atlantic', 'Pennsylvania', 8163.0, 5349.0, 12800922],\n",
       "       [39, 'New England', 'Rhode Island', 747.0, 354.0, 1058287],\n",
       "       [40, 'South Atlantic', 'South Carolina', 3082.0, 851.0, 5084156],\n",
       "       [41, 'West North Central', 'South Dakota', 836.0, 323.0, 878698],\n",
       "       [42, 'East South Central', 'Tennessee', 6139.0, 1744.0, 6771631],\n",
       "       [43, 'West South Central', 'Texas', 19199.0, 6111.0, 28628666],\n",
       "       [44, 'Mountain', 'Utah', 1904.0, 972.0, 3153550],\n",
       "       [45, 'New England', 'Vermont', 780.0, 511.0, 624358],\n",
       "       [46, 'South Atlantic', 'Virginia', 3928.0, 2047.0, 8501286],\n",
       "       [47, 'Pacific', 'Washington', 16424.0, 5880.0, 7523869],\n",
       "       [48, 'South Atlantic', 'West Virginia', 1021.0, 222.0, 1804291],\n",
       "       [49, 'East North Central', 'Wisconsin', 2740.0, 2167.0, 5807406],\n",
       "       [50, 'Mountain', 'Wyoming', 434.0, 205.0, 577601]], dtype=object)"
      ]
     },
     "execution_count": 10,
     "metadata": {},
     "output_type": "execute_result"
    }
   ],
   "source": [
    "# Print the values of homelessness\n",
    "df.values\n"
   ]
  },
  {
   "cell_type": "code",
   "execution_count": 13,
   "metadata": {},
   "outputs": [
    {
     "data": {
      "text/plain": [
       "Index(['Unnamed: 0', 'region', 'state', 'individuals', 'family_members',\n",
       "       'state_pop'],\n",
       "      dtype='object')"
      ]
     },
     "execution_count": 13,
     "metadata": {},
     "output_type": "execute_result"
    }
   ],
   "source": [
    "# Print the column index of homelessness\n",
    "df.columns"
   ]
  },
  {
   "cell_type": "code",
   "execution_count": 19,
   "metadata": {
    "id": "fm5saUItwcFd"
   },
   "outputs": [
    {
     "data": {
      "text/plain": [
       "[RangeIndex(start=0, stop=51, step=1),\n",
       " Index(['Unnamed: 0', 'region', 'state', 'individuals', 'family_members',\n",
       "        'state_pop'],\n",
       "       dtype='object')]"
      ]
     },
     "execution_count": 19,
     "metadata": {},
     "output_type": "execute_result"
    }
   ],
   "source": [
    "# Print the row index of homelessness\n",
    "df.axes"
   ]
  },
  {
   "cell_type": "markdown",
   "metadata": {
    "id": "C2RxFTVbwurT"
   },
   "source": [
    "1. Sort homelessness by the number of homeless individuals, from smallest to largest, and save this as homelessness_ind.\n",
    "2. Print the head of the sorted DataFrame."
   ]
  },
  {
   "cell_type": "code",
   "execution_count": 20,
   "metadata": {
    "id": "a3ykbCdgwzQV"
   },
   "outputs": [],
   "source": [
    "# Sort homelessness by individual\n",
    "homelessness_ind = df.sort_values(by=['individuals'])\n"
   ]
  },
  {
   "cell_type": "code",
   "execution_count": 21,
   "metadata": {},
   "outputs": [
    {
     "data": {
      "text/html": [
       "<div>\n",
       "<style scoped>\n",
       "    .dataframe tbody tr th:only-of-type {\n",
       "        vertical-align: middle;\n",
       "    }\n",
       "\n",
       "    .dataframe tbody tr th {\n",
       "        vertical-align: top;\n",
       "    }\n",
       "\n",
       "    .dataframe thead th {\n",
       "        text-align: right;\n",
       "    }\n",
       "</style>\n",
       "<table border=\"1\" class=\"dataframe\">\n",
       "  <thead>\n",
       "    <tr style=\"text-align: right;\">\n",
       "      <th></th>\n",
       "      <th>Unnamed: 0</th>\n",
       "      <th>region</th>\n",
       "      <th>state</th>\n",
       "      <th>individuals</th>\n",
       "      <th>family_members</th>\n",
       "      <th>state_pop</th>\n",
       "    </tr>\n",
       "  </thead>\n",
       "  <tbody>\n",
       "    <tr>\n",
       "      <th>50</th>\n",
       "      <td>50</td>\n",
       "      <td>Mountain</td>\n",
       "      <td>Wyoming</td>\n",
       "      <td>434.0</td>\n",
       "      <td>205.0</td>\n",
       "      <td>577601</td>\n",
       "    </tr>\n",
       "    <tr>\n",
       "      <th>34</th>\n",
       "      <td>34</td>\n",
       "      <td>West North Central</td>\n",
       "      <td>North Dakota</td>\n",
       "      <td>467.0</td>\n",
       "      <td>75.0</td>\n",
       "      <td>758080</td>\n",
       "    </tr>\n",
       "    <tr>\n",
       "      <th>7</th>\n",
       "      <td>7</td>\n",
       "      <td>South Atlantic</td>\n",
       "      <td>Delaware</td>\n",
       "      <td>708.0</td>\n",
       "      <td>374.0</td>\n",
       "      <td>965479</td>\n",
       "    </tr>\n",
       "    <tr>\n",
       "      <th>39</th>\n",
       "      <td>39</td>\n",
       "      <td>New England</td>\n",
       "      <td>Rhode Island</td>\n",
       "      <td>747.0</td>\n",
       "      <td>354.0</td>\n",
       "      <td>1058287</td>\n",
       "    </tr>\n",
       "    <tr>\n",
       "      <th>45</th>\n",
       "      <td>45</td>\n",
       "      <td>New England</td>\n",
       "      <td>Vermont</td>\n",
       "      <td>780.0</td>\n",
       "      <td>511.0</td>\n",
       "      <td>624358</td>\n",
       "    </tr>\n",
       "  </tbody>\n",
       "</table>\n",
       "</div>"
      ],
      "text/plain": [
       "    Unnamed: 0              region         state  individuals  family_members  \\\n",
       "50          50            Mountain       Wyoming        434.0           205.0   \n",
       "34          34  West North Central  North Dakota        467.0            75.0   \n",
       "7            7      South Atlantic      Delaware        708.0           374.0   \n",
       "39          39         New England  Rhode Island        747.0           354.0   \n",
       "45          45         New England       Vermont        780.0           511.0   \n",
       "\n",
       "    state_pop  \n",
       "50     577601  \n",
       "34     758080  \n",
       "7      965479  \n",
       "39    1058287  \n",
       "45     624358  "
      ]
     },
     "execution_count": 21,
     "metadata": {},
     "output_type": "execute_result"
    }
   ],
   "source": [
    "# Print the top few rows\n",
    "homelessness_ind.head(5)"
   ]
  },
  {
   "cell_type": "markdown",
   "metadata": {
    "id": "DzVp9qvLwyQA"
   },
   "source": [
    "1. Sort homelessness by the number of homeless family_members in descending order, and save this as homelessness_fam.\n",
    "2. Print the head of the sorted DataFrame."
   ]
  },
  {
   "cell_type": "code",
   "execution_count": 23,
   "metadata": {
    "id": "b6XF3IT0w7us"
   },
   "outputs": [
    {
     "data": {
      "text/html": [
       "<div>\n",
       "<style scoped>\n",
       "    .dataframe tbody tr th:only-of-type {\n",
       "        vertical-align: middle;\n",
       "    }\n",
       "\n",
       "    .dataframe tbody tr th {\n",
       "        vertical-align: top;\n",
       "    }\n",
       "\n",
       "    .dataframe thead th {\n",
       "        text-align: right;\n",
       "    }\n",
       "</style>\n",
       "<table border=\"1\" class=\"dataframe\">\n",
       "  <thead>\n",
       "    <tr style=\"text-align: right;\">\n",
       "      <th></th>\n",
       "      <th>Unnamed: 0</th>\n",
       "      <th>region</th>\n",
       "      <th>state</th>\n",
       "      <th>individuals</th>\n",
       "      <th>family_members</th>\n",
       "      <th>state_pop</th>\n",
       "    </tr>\n",
       "  </thead>\n",
       "  <tbody>\n",
       "    <tr>\n",
       "      <th>32</th>\n",
       "      <td>32</td>\n",
       "      <td>Mid-Atlantic</td>\n",
       "      <td>New York</td>\n",
       "      <td>39827.0</td>\n",
       "      <td>52070.0</td>\n",
       "      <td>19530351</td>\n",
       "    </tr>\n",
       "    <tr>\n",
       "      <th>4</th>\n",
       "      <td>4</td>\n",
       "      <td>Pacific</td>\n",
       "      <td>California</td>\n",
       "      <td>109008.0</td>\n",
       "      <td>20964.0</td>\n",
       "      <td>39461588</td>\n",
       "    </tr>\n",
       "    <tr>\n",
       "      <th>21</th>\n",
       "      <td>21</td>\n",
       "      <td>New England</td>\n",
       "      <td>Massachusetts</td>\n",
       "      <td>6811.0</td>\n",
       "      <td>13257.0</td>\n",
       "      <td>6882635</td>\n",
       "    </tr>\n",
       "    <tr>\n",
       "      <th>9</th>\n",
       "      <td>9</td>\n",
       "      <td>South Atlantic</td>\n",
       "      <td>Florida</td>\n",
       "      <td>21443.0</td>\n",
       "      <td>9587.0</td>\n",
       "      <td>21244317</td>\n",
       "    </tr>\n",
       "    <tr>\n",
       "      <th>43</th>\n",
       "      <td>43</td>\n",
       "      <td>West South Central</td>\n",
       "      <td>Texas</td>\n",
       "      <td>19199.0</td>\n",
       "      <td>6111.0</td>\n",
       "      <td>28628666</td>\n",
       "    </tr>\n",
       "  </tbody>\n",
       "</table>\n",
       "</div>"
      ],
      "text/plain": [
       "    Unnamed: 0              region          state  individuals  \\\n",
       "32          32        Mid-Atlantic       New York      39827.0   \n",
       "4            4             Pacific     California     109008.0   \n",
       "21          21         New England  Massachusetts       6811.0   \n",
       "9            9      South Atlantic        Florida      21443.0   \n",
       "43          43  West South Central          Texas      19199.0   \n",
       "\n",
       "    family_members  state_pop  \n",
       "32         52070.0   19530351  \n",
       "4          20964.0   39461588  \n",
       "21         13257.0    6882635  \n",
       "9           9587.0   21244317  \n",
       "43          6111.0   28628666  "
      ]
     },
     "execution_count": 23,
     "metadata": {},
     "output_type": "execute_result"
    }
   ],
   "source": [
    "# Sort homelessness by descending family members\n",
    "homelessness_fam = df.sort_values(by='family_members', ascending=False)\n",
    "# Print the top few rows\n",
    "homelessness_fam.head(5)"
   ]
  },
  {
   "cell_type": "markdown",
   "metadata": {
    "id": "VrycbWLXxju4"
   },
   "source": [
    "1. Sort homelessness first by region (ascending), and then by number of family members (descending). Save this as homelessness_reg_fam.\n",
    "2. Print the head of the sorted DataFrame."
   ]
  },
  {
   "cell_type": "code",
   "execution_count": 26,
   "metadata": {
    "id": "8GxinflQxmL6"
   },
   "outputs": [
    {
     "data": {
      "text/html": [
       "<div>\n",
       "<style scoped>\n",
       "    .dataframe tbody tr th:only-of-type {\n",
       "        vertical-align: middle;\n",
       "    }\n",
       "\n",
       "    .dataframe tbody tr th {\n",
       "        vertical-align: top;\n",
       "    }\n",
       "\n",
       "    .dataframe thead th {\n",
       "        text-align: right;\n",
       "    }\n",
       "</style>\n",
       "<table border=\"1\" class=\"dataframe\">\n",
       "  <thead>\n",
       "    <tr style=\"text-align: right;\">\n",
       "      <th></th>\n",
       "      <th>Unnamed: 0</th>\n",
       "      <th>region</th>\n",
       "      <th>state</th>\n",
       "      <th>individuals</th>\n",
       "      <th>family_members</th>\n",
       "      <th>state_pop</th>\n",
       "    </tr>\n",
       "  </thead>\n",
       "  <tbody>\n",
       "    <tr>\n",
       "      <th>36</th>\n",
       "      <td>36</td>\n",
       "      <td>West South Central</td>\n",
       "      <td>Oklahoma</td>\n",
       "      <td>2823.0</td>\n",
       "      <td>1048.0</td>\n",
       "      <td>3940235</td>\n",
       "    </tr>\n",
       "    <tr>\n",
       "      <th>3</th>\n",
       "      <td>3</td>\n",
       "      <td>West South Central</td>\n",
       "      <td>Arkansas</td>\n",
       "      <td>2280.0</td>\n",
       "      <td>432.0</td>\n",
       "      <td>3009733</td>\n",
       "    </tr>\n",
       "    <tr>\n",
       "      <th>18</th>\n",
       "      <td>18</td>\n",
       "      <td>West South Central</td>\n",
       "      <td>Louisiana</td>\n",
       "      <td>2540.0</td>\n",
       "      <td>519.0</td>\n",
       "      <td>4659690</td>\n",
       "    </tr>\n",
       "    <tr>\n",
       "      <th>43</th>\n",
       "      <td>43</td>\n",
       "      <td>West South Central</td>\n",
       "      <td>Texas</td>\n",
       "      <td>19199.0</td>\n",
       "      <td>6111.0</td>\n",
       "      <td>28628666</td>\n",
       "    </tr>\n",
       "    <tr>\n",
       "      <th>25</th>\n",
       "      <td>25</td>\n",
       "      <td>West North Central</td>\n",
       "      <td>Missouri</td>\n",
       "      <td>3776.0</td>\n",
       "      <td>2107.0</td>\n",
       "      <td>6121623</td>\n",
       "    </tr>\n",
       "  </tbody>\n",
       "</table>\n",
       "</div>"
      ],
      "text/plain": [
       "    Unnamed: 0              region      state  individuals  family_members  \\\n",
       "36          36  West South Central   Oklahoma       2823.0          1048.0   \n",
       "3            3  West South Central   Arkansas       2280.0           432.0   \n",
       "18          18  West South Central  Louisiana       2540.0           519.0   \n",
       "43          43  West South Central      Texas      19199.0          6111.0   \n",
       "25          25  West North Central   Missouri       3776.0          2107.0   \n",
       "\n",
       "    state_pop  \n",
       "36    3940235  \n",
       "3     3009733  \n",
       "18    4659690  \n",
       "43   28628666  \n",
       "25    6121623  "
      ]
     },
     "execution_count": 26,
     "metadata": {},
     "output_type": "execute_result"
    }
   ],
   "source": [
    "# Sort homelessness by region, then descending family members\n",
    "homelessness_reg_fam = df.sort_values (by='region', ascending=False)\n",
    "\n",
    "# Print the top few rows\n",
    "homelessness_reg_fam.head()"
   ]
  },
  {
   "cell_type": "markdown",
   "metadata": {
    "id": "ysh02Y60xs7n"
   },
   "source": [
    "1. Create a DataFrame called individuals that contains only the individuals column of homelessness.\n",
    "2. Print the head of the result."
   ]
  },
  {
   "cell_type": "code",
   "execution_count": 27,
   "metadata": {
    "id": "N9kvbr1fxwQV"
   },
   "outputs": [
    {
     "data": {
      "text/plain": [
       "0      2570.0\n",
       "1      1434.0\n",
       "2      7259.0\n",
       "3      2280.0\n",
       "4    109008.0\n",
       "Name: individuals, dtype: float64"
      ]
     },
     "execution_count": 27,
     "metadata": {},
     "output_type": "execute_result"
    }
   ],
   "source": [
    "# Select the individuals column\n",
    "individuals = df['individuals']\n",
    "\n",
    "# Print the head of the result\n",
    "individuals.head()"
   ]
  },
  {
   "cell_type": "markdown",
   "metadata": {
    "id": "kjcynwqKyprN"
   },
   "source": [
    "1. Create a DataFrame called state_fam that contains only the state and family_members columns of homelessness, in that order.\n",
    "2. Print the head of the result."
   ]
  },
  {
   "cell_type": "code",
   "execution_count": 29,
   "metadata": {
    "id": "cmOO0FXNyuLY"
   },
   "outputs": [
    {
     "ename": "KeyError",
     "evalue": "'statefamily_members'",
     "output_type": "error",
     "traceback": [
      "\u001b[1;31m---------------------------------------------------------------------------\u001b[0m",
      "\u001b[1;31mKeyError\u001b[0m                                  Traceback (most recent call last)",
      "File \u001b[1;32m~\\anaconda3\\Lib\\site-packages\\pandas\\core\\indexes\\base.py:3802\u001b[0m, in \u001b[0;36mIndex.get_loc\u001b[1;34m(self, key, method, tolerance)\u001b[0m\n\u001b[0;32m   3801\u001b[0m \u001b[38;5;28;01mtry\u001b[39;00m:\n\u001b[1;32m-> 3802\u001b[0m     \u001b[38;5;28;01mreturn\u001b[39;00m \u001b[38;5;28mself\u001b[39m\u001b[38;5;241m.\u001b[39m_engine\u001b[38;5;241m.\u001b[39mget_loc(casted_key)\n\u001b[0;32m   3803\u001b[0m \u001b[38;5;28;01mexcept\u001b[39;00m \u001b[38;5;167;01mKeyError\u001b[39;00m \u001b[38;5;28;01mas\u001b[39;00m err:\n",
      "File \u001b[1;32m~\\anaconda3\\Lib\\site-packages\\pandas\\_libs\\index.pyx:138\u001b[0m, in \u001b[0;36mpandas._libs.index.IndexEngine.get_loc\u001b[1;34m()\u001b[0m\n",
      "File \u001b[1;32m~\\anaconda3\\Lib\\site-packages\\pandas\\_libs\\index.pyx:165\u001b[0m, in \u001b[0;36mpandas._libs.index.IndexEngine.get_loc\u001b[1;34m()\u001b[0m\n",
      "File \u001b[1;32mpandas\\_libs\\hashtable_class_helper.pxi:5745\u001b[0m, in \u001b[0;36mpandas._libs.hashtable.PyObjectHashTable.get_item\u001b[1;34m()\u001b[0m\n",
      "File \u001b[1;32mpandas\\_libs\\hashtable_class_helper.pxi:5753\u001b[0m, in \u001b[0;36mpandas._libs.hashtable.PyObjectHashTable.get_item\u001b[1;34m()\u001b[0m\n",
      "\u001b[1;31mKeyError\u001b[0m: 'statefamily_members'",
      "\nThe above exception was the direct cause of the following exception:\n",
      "\u001b[1;31mKeyError\u001b[0m                                  Traceback (most recent call last)",
      "Cell \u001b[1;32mIn[29], line 2\u001b[0m\n\u001b[0;32m      1\u001b[0m \u001b[38;5;66;03m# Select the state and family_members columns\u001b[39;00m\n\u001b[1;32m----> 2\u001b[0m state_fam \u001b[38;5;241m=\u001b[39m df[\u001b[38;5;124m'\u001b[39m\u001b[38;5;124mstate\u001b[39m\u001b[38;5;124m'\u001b[39m \u001b[38;5;241m+\u001b[39m \u001b[38;5;124m'\u001b[39m\u001b[38;5;124mfamily_members\u001b[39m\u001b[38;5;124m'\u001b[39m]\n\u001b[0;32m      4\u001b[0m \u001b[38;5;66;03m# Print the head of the result\u001b[39;00m\n\u001b[0;32m      5\u001b[0m state_fam\u001b[38;5;241m.\u001b[39mhead()\n",
      "File \u001b[1;32m~\\anaconda3\\Lib\\site-packages\\pandas\\core\\frame.py:3807\u001b[0m, in \u001b[0;36mDataFrame.__getitem__\u001b[1;34m(self, key)\u001b[0m\n\u001b[0;32m   3805\u001b[0m \u001b[38;5;28;01mif\u001b[39;00m \u001b[38;5;28mself\u001b[39m\u001b[38;5;241m.\u001b[39mcolumns\u001b[38;5;241m.\u001b[39mnlevels \u001b[38;5;241m>\u001b[39m \u001b[38;5;241m1\u001b[39m:\n\u001b[0;32m   3806\u001b[0m     \u001b[38;5;28;01mreturn\u001b[39;00m \u001b[38;5;28mself\u001b[39m\u001b[38;5;241m.\u001b[39m_getitem_multilevel(key)\n\u001b[1;32m-> 3807\u001b[0m indexer \u001b[38;5;241m=\u001b[39m \u001b[38;5;28mself\u001b[39m\u001b[38;5;241m.\u001b[39mcolumns\u001b[38;5;241m.\u001b[39mget_loc(key)\n\u001b[0;32m   3808\u001b[0m \u001b[38;5;28;01mif\u001b[39;00m is_integer(indexer):\n\u001b[0;32m   3809\u001b[0m     indexer \u001b[38;5;241m=\u001b[39m [indexer]\n",
      "File \u001b[1;32m~\\anaconda3\\Lib\\site-packages\\pandas\\core\\indexes\\base.py:3804\u001b[0m, in \u001b[0;36mIndex.get_loc\u001b[1;34m(self, key, method, tolerance)\u001b[0m\n\u001b[0;32m   3802\u001b[0m     \u001b[38;5;28;01mreturn\u001b[39;00m \u001b[38;5;28mself\u001b[39m\u001b[38;5;241m.\u001b[39m_engine\u001b[38;5;241m.\u001b[39mget_loc(casted_key)\n\u001b[0;32m   3803\u001b[0m \u001b[38;5;28;01mexcept\u001b[39;00m \u001b[38;5;167;01mKeyError\u001b[39;00m \u001b[38;5;28;01mas\u001b[39;00m err:\n\u001b[1;32m-> 3804\u001b[0m     \u001b[38;5;28;01mraise\u001b[39;00m \u001b[38;5;167;01mKeyError\u001b[39;00m(key) \u001b[38;5;28;01mfrom\u001b[39;00m \u001b[38;5;21;01merr\u001b[39;00m\n\u001b[0;32m   3805\u001b[0m \u001b[38;5;28;01mexcept\u001b[39;00m \u001b[38;5;167;01mTypeError\u001b[39;00m:\n\u001b[0;32m   3806\u001b[0m     \u001b[38;5;66;03m# If we have a listlike key, _check_indexing_error will raise\u001b[39;00m\n\u001b[0;32m   3807\u001b[0m     \u001b[38;5;66;03m#  InvalidIndexError. Otherwise we fall through and re-raise\u001b[39;00m\n\u001b[0;32m   3808\u001b[0m     \u001b[38;5;66;03m#  the TypeError.\u001b[39;00m\n\u001b[0;32m   3809\u001b[0m     \u001b[38;5;28mself\u001b[39m\u001b[38;5;241m.\u001b[39m_check_indexing_error(key)\n",
      "\u001b[1;31mKeyError\u001b[0m: 'statefamily_members'"
     ]
    }
   ],
   "source": [
    "# Select the state and family_members columns\n",
    "state_fam = df['state', 'family_members']\n",
    "\n",
    "# Print the head of the result\n",
    "state_fam.head()"
   ]
  },
  {
   "cell_type": "markdown",
   "metadata": {
    "id": "HDL0tEKpywNU"
   },
   "source": [
    "1. Create a DataFrame called ind_state that contains the individuals and state columns of homelessness, in that order.\n",
    "2. Print the head of the result."
   ]
  },
  {
   "cell_type": "code",
   "execution_count": null,
   "metadata": {
    "id": "9CGyZMlPy17L"
   },
   "outputs": [],
   "source": [
    "# Select only the individuals and state columns, in that order\n",
    "ind_state = ____\n",
    "\n",
    "# Print the head of the result\n",
    "____"
   ]
  },
  {
   "cell_type": "markdown",
   "metadata": {
    "id": "jRHrSM92zYH5"
   },
   "source": [
    "Filter homelessness for cases where the number of individuals is greater than ten thousand, assigning to ind_gt_10k. View the printed result."
   ]
  },
  {
   "cell_type": "code",
   "execution_count": null,
   "metadata": {
    "id": "Gb2mfRaYzbvk"
   },
   "outputs": [],
   "source": [
    "# Filter for rows where individuals is greater than 10000\n",
    "ind_gt_10k = ____\n",
    "\n",
    "# See the result\n",
    "print(ind_gt_10k)"
   ]
  },
  {
   "cell_type": "markdown",
   "metadata": {
    "id": "ON9JYsLnzcPF"
   },
   "source": [
    "Filter homelessness for cases where the USA Census region is \"Mountain\", assigning to mountain_reg. View the printed result."
   ]
  },
  {
   "cell_type": "code",
   "execution_count": null,
   "metadata": {
    "id": "MrVVVJwMzhaI"
   },
   "outputs": [],
   "source": [
    "# Filter for rows where region is Mountain\n",
    "mountain_reg = ____\n",
    "\n",
    "# See the result\n",
    "____"
   ]
  },
  {
   "cell_type": "markdown",
   "metadata": {
    "id": "DDQQp1oWziHx"
   },
   "source": [
    "Filter homelessness for cases where the number of family_members is less than one thousand and the region is \"Pacific\", assigning to fam_lt_1k_pac. View the printed result."
   ]
  },
  {
   "cell_type": "code",
   "execution_count": null,
   "metadata": {
    "id": "8YRcU-HszlCU"
   },
   "outputs": [],
   "source": [
    "# Filter for rows where family_members is less than 1000 \n",
    "# and region is Pacific\n",
    "fam_lt_1k_pac = ____\n",
    "\n",
    "# See the result\n",
    "print(fam_lt_1k_pac)"
   ]
  },
  {
   "cell_type": "markdown",
   "metadata": {
    "id": "yGDc3wEIzpE8"
   },
   "source": [
    "Filter homelessness for cases where the USA census region is \"South Atlantic\" or it is \"Mid-Atlantic\", assigning to south_mid_atlantic. View the printed result"
   ]
  },
  {
   "cell_type": "code",
   "execution_count": null,
   "metadata": {
    "id": "nk8O0I2PzrLV"
   },
   "outputs": [],
   "source": [
    "# Subset for rows in South Atlantic or Mid-Atlantic regions\n",
    "south_mid_atlantic = ____\n",
    "\n",
    "# See the result\n",
    "print(south_mid_atlantic)"
   ]
  },
  {
   "cell_type": "markdown",
   "metadata": {
    "id": "jjBCm7kAzs5u"
   },
   "source": [
    "Filter homelessness for cases where the USA census state is in the list of Mojave states, canu, assigning to mojave_homelessness. View the printed result."
   ]
  },
  {
   "cell_type": "code",
   "execution_count": null,
   "metadata": {
    "id": "F45HAHppzvKf"
   },
   "outputs": [],
   "source": [
    "# The Mojave Desert states\n",
    "canu = [\"California\", \"Arizona\", \"Nevada\", \"Utah\"]\n",
    "\n",
    "# Filter for rows in the Mojave Desert states\n",
    "mojave_homelessness = ____\n",
    "\n",
    "# See the result\n",
    "print(mojave_homelessness)"
   ]
  },
  {
   "cell_type": "markdown",
   "metadata": {
    "id": "-HUNhiw2zzvO"
   },
   "source": [
    "1. Add a new column to homelessness, named total, containing the sum of the individuals and family_members columns.\n",
    "2. Add another column to homelessness, named p_individuals, containing the proportion of homeless people in each state who are individuals."
   ]
  },
  {
   "cell_type": "code",
   "execution_count": null,
   "metadata": {
    "id": "Cc9kHD-Szw9S"
   },
   "outputs": [],
   "source": [
    "# Add total col as sum of individuals and family_members\n",
    "____\n",
    "\n",
    "# Add p_individuals col as proportion of individuals\n",
    "____\n",
    "\n",
    "# See the result\n",
    "print(homelessness)"
   ]
  },
  {
   "cell_type": "markdown",
   "metadata": {
    "id": "nU1T0AwEz5dR"
   },
   "source": [
    "1. Add a column to homelessness, indiv_per_10k, containing the number of homeless individuals per ten thousand people in each state.\n",
    "2. Subset rows where indiv_per_10k is higher than 20, assigning to high_homelessness.\n",
    "3. Sort high_homelessness by descending indiv_per_10k, assigning to high_homelessness_srt.\n",
    "4. Select only the state and indiv_per_10k columns of high_homelessness_srt and save as result. Look at the result."
   ]
  },
  {
   "cell_type": "code",
   "execution_count": null,
   "metadata": {
    "id": "IybcAnQ2z5DU"
   },
   "outputs": [],
   "source": [
    "# Create indiv_per_10k col as homeless individuals per 10k state pop\n",
    "homelessness[\"indiv_per_10k\"] = 10000 * ____ / ____ \n",
    "\n",
    "# Subset rows for indiv_per_10k greater than 20\n",
    "high_homelessness = ____\n",
    "\n",
    "# Sort high_homelessness by descending indiv_per_10k\n",
    "high_homelessness_srt = ____\n",
    "\n",
    "# From high_homelessness_srt, select the state and indiv_per_10k cols\n",
    "result = ____\n",
    "\n",
    "# See the result\n",
    "print(result)"
   ]
  }
 ],
 "metadata": {
  "colab": {
   "name": "04. Transforming DataFrames Exercise.ipynb",
   "provenance": []
  },
  "kernelspec": {
   "display_name": "Python 3 (ipykernel)",
   "language": "python",
   "name": "python3"
  },
  "language_info": {
   "codemirror_mode": {
    "name": "ipython",
    "version": 3
   },
   "file_extension": ".py",
   "mimetype": "text/x-python",
   "name": "python",
   "nbconvert_exporter": "python",
   "pygments_lexer": "ipython3",
   "version": "3.11.4"
  }
 },
 "nbformat": 4,
 "nbformat_minor": 1
}
