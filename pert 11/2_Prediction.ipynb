{
  "cells": [
    {
      "cell_type": "code",
      "execution_count": 1,
      "metadata": {
        "id": "Rh28GFGMu5P4"
      },
      "outputs": [],
      "source": [
        "import pandas as pd\n",
        "import numpy as np\n",
        "import matplotlib.pyplot as plt\n",
        "import seaborn as sns"
      ]
    },
    {
      "cell_type": "code",
      "execution_count": 2,
      "metadata": {
        "colab": {
          "base_uri": "https://localhost:8080/",
          "height": 423
        },
        "id": "4EjBryXqvGy2",
        "outputId": "546625db-707d-4a97-d509-479499255447"
      },
      "outputs": [
        {
          "data": {
            "text/html": [
              "<div>\n",
              "<style scoped>\n",
              "    .dataframe tbody tr th:only-of-type {\n",
              "        vertical-align: middle;\n",
              "    }\n",
              "\n",
              "    .dataframe tbody tr th {\n",
              "        vertical-align: top;\n",
              "    }\n",
              "\n",
              "    .dataframe thead th {\n",
              "        text-align: right;\n",
              "    }\n",
              "</style>\n",
              "<table border=\"1\" class=\"dataframe\">\n",
              "  <thead>\n",
              "    <tr style=\"text-align: right;\">\n",
              "      <th></th>\n",
              "      <th>dist_to_mrt_m</th>\n",
              "      <th>n_convenience</th>\n",
              "      <th>house_age_years</th>\n",
              "      <th>price_twd_msq</th>\n",
              "    </tr>\n",
              "  </thead>\n",
              "  <tbody>\n",
              "    <tr>\n",
              "      <th>0</th>\n",
              "      <td>84.87882</td>\n",
              "      <td>10</td>\n",
              "      <td>30 to 45</td>\n",
              "      <td>11.467474</td>\n",
              "    </tr>\n",
              "    <tr>\n",
              "      <th>1</th>\n",
              "      <td>306.59470</td>\n",
              "      <td>9</td>\n",
              "      <td>15 to 30</td>\n",
              "      <td>12.768533</td>\n",
              "    </tr>\n",
              "    <tr>\n",
              "      <th>2</th>\n",
              "      <td>561.98450</td>\n",
              "      <td>5</td>\n",
              "      <td>0 to 15</td>\n",
              "      <td>14.311649</td>\n",
              "    </tr>\n",
              "    <tr>\n",
              "      <th>3</th>\n",
              "      <td>561.98450</td>\n",
              "      <td>5</td>\n",
              "      <td>0 to 15</td>\n",
              "      <td>16.580938</td>\n",
              "    </tr>\n",
              "    <tr>\n",
              "      <th>4</th>\n",
              "      <td>390.56840</td>\n",
              "      <td>5</td>\n",
              "      <td>0 to 15</td>\n",
              "      <td>13.040847</td>\n",
              "    </tr>\n",
              "    <tr>\n",
              "      <th>...</th>\n",
              "      <td>...</td>\n",
              "      <td>...</td>\n",
              "      <td>...</td>\n",
              "      <td>...</td>\n",
              "    </tr>\n",
              "    <tr>\n",
              "      <th>409</th>\n",
              "      <td>4082.01500</td>\n",
              "      <td>0</td>\n",
              "      <td>0 to 15</td>\n",
              "      <td>4.659607</td>\n",
              "    </tr>\n",
              "    <tr>\n",
              "      <th>410</th>\n",
              "      <td>90.45606</td>\n",
              "      <td>9</td>\n",
              "      <td>0 to 15</td>\n",
              "      <td>15.128593</td>\n",
              "    </tr>\n",
              "    <tr>\n",
              "      <th>411</th>\n",
              "      <td>390.96960</td>\n",
              "      <td>7</td>\n",
              "      <td>15 to 30</td>\n",
              "      <td>12.284418</td>\n",
              "    </tr>\n",
              "    <tr>\n",
              "      <th>412</th>\n",
              "      <td>104.81010</td>\n",
              "      <td>5</td>\n",
              "      <td>0 to 15</td>\n",
              "      <td>15.885023</td>\n",
              "    </tr>\n",
              "    <tr>\n",
              "      <th>413</th>\n",
              "      <td>90.45606</td>\n",
              "      <td>9</td>\n",
              "      <td>0 to 15</td>\n",
              "      <td>19.334342</td>\n",
              "    </tr>\n",
              "  </tbody>\n",
              "</table>\n",
              "<p>414 rows × 4 columns</p>\n",
              "</div>"
            ],
            "text/plain": [
              "     dist_to_mrt_m  n_convenience house_age_years  price_twd_msq\n",
              "0         84.87882             10        30 to 45      11.467474\n",
              "1        306.59470              9        15 to 30      12.768533\n",
              "2        561.98450              5         0 to 15      14.311649\n",
              "3        561.98450              5         0 to 15      16.580938\n",
              "4        390.56840              5         0 to 15      13.040847\n",
              "..             ...            ...             ...            ...\n",
              "409     4082.01500              0         0 to 15       4.659607\n",
              "410       90.45606              9         0 to 15      15.128593\n",
              "411      390.96960              7        15 to 30      12.284418\n",
              "412      104.81010              5         0 to 15      15.885023\n",
              "413       90.45606              9         0 to 15      19.334342\n",
              "\n",
              "[414 rows x 4 columns]"
            ]
          },
          "execution_count": 2,
          "metadata": {},
          "output_type": "execute_result"
        }
      ],
      "source": [
        "taiwan_real_estate = pd.read_csv('taiwan_real_estate2.csv')\n",
        "taiwan_real_estate"
      ]
    },
    {
      "cell_type": "markdown",
      "metadata": {
        "id": "kpUeAvmFvQuD"
      },
      "source": [
        "## Predicting house prices\n",
        "\n",
        "1. Import the numpy package using the alias np.\n",
        "2. Create a DataFrame of explanatory data, where the number of convenience stores, n_convenience, takes the integer values from zero to ten.\n",
        "3. Print explanatory_data."
      ]
    },
    {
      "cell_type": "code",
      "execution_count": 4,
      "metadata": {
        "colab": {
          "base_uri": "https://localhost:8080/"
        },
        "id": "o7c2CNxRvc9d",
        "outputId": "c7464b48-40ed-4185-a72d-7d40336f119a"
      },
      "outputs": [
        {
          "name": "stdout",
          "output_type": "stream",
          "text": [
            "    n_convenience\n",
            "0               0\n",
            "1               1\n",
            "2               2\n",
            "3               3\n",
            "4               4\n",
            "5               5\n",
            "6               6\n",
            "7               7\n",
            "8               8\n",
            "9               9\n",
            "10             10\n"
          ]
        }
      ],
      "source": [
        "# Import numpy with alias np\n",
        "____\n",
        "\n",
        "# Create the explanatory_data \n",
        "explanatory_data = pd.____({'____': np.____(____)})\n",
        "\n",
        "# Print it\n",
        "____"
      ]
    },
    {
      "cell_type": "code",
      "execution_count": 3,
      "metadata": {},
      "outputs": [
        {
          "data": {
            "text/html": [
              "<div>\n",
              "<style scoped>\n",
              "    .dataframe tbody tr th:only-of-type {\n",
              "        vertical-align: middle;\n",
              "    }\n",
              "\n",
              "    .dataframe tbody tr th {\n",
              "        vertical-align: top;\n",
              "    }\n",
              "\n",
              "    .dataframe thead th {\n",
              "        text-align: right;\n",
              "    }\n",
              "</style>\n",
              "<table border=\"1\" class=\"dataframe\">\n",
              "  <thead>\n",
              "    <tr style=\"text-align: right;\">\n",
              "      <th></th>\n",
              "      <th>n_convenience</th>\n",
              "    </tr>\n",
              "  </thead>\n",
              "  <tbody>\n",
              "    <tr>\n",
              "      <th>0</th>\n",
              "      <td>0</td>\n",
              "    </tr>\n",
              "    <tr>\n",
              "      <th>1</th>\n",
              "      <td>1</td>\n",
              "    </tr>\n",
              "    <tr>\n",
              "      <th>2</th>\n",
              "      <td>2</td>\n",
              "    </tr>\n",
              "    <tr>\n",
              "      <th>3</th>\n",
              "      <td>3</td>\n",
              "    </tr>\n",
              "    <tr>\n",
              "      <th>4</th>\n",
              "      <td>4</td>\n",
              "    </tr>\n",
              "    <tr>\n",
              "      <th>5</th>\n",
              "      <td>5</td>\n",
              "    </tr>\n",
              "    <tr>\n",
              "      <th>6</th>\n",
              "      <td>6</td>\n",
              "    </tr>\n",
              "    <tr>\n",
              "      <th>7</th>\n",
              "      <td>7</td>\n",
              "    </tr>\n",
              "    <tr>\n",
              "      <th>8</th>\n",
              "      <td>8</td>\n",
              "    </tr>\n",
              "    <tr>\n",
              "      <th>9</th>\n",
              "      <td>9</td>\n",
              "    </tr>\n",
              "    <tr>\n",
              "      <th>10</th>\n",
              "      <td>10</td>\n",
              "    </tr>\n",
              "  </tbody>\n",
              "</table>\n",
              "</div>"
            ],
            "text/plain": [
              "    n_convenience\n",
              "0               0\n",
              "1               1\n",
              "2               2\n",
              "3               3\n",
              "4               4\n",
              "5               5\n",
              "6               6\n",
              "7               7\n",
              "8               8\n",
              "9               9\n",
              "10             10"
            ]
          },
          "execution_count": 3,
          "metadata": {},
          "output_type": "execute_result"
        }
      ],
      "source": [
        "# Import numpy with alias np\n",
        "import numpy as np\n",
        "\n",
        "# Create the explanatory_data \n",
        "explanatory_data = pd.DataFrame({'n_convenience': np.arange(11)})\n",
        "\n",
        "# Print it\n",
        "explanatory_data"
      ]
    },
    {
      "cell_type": "markdown",
      "metadata": {
        "id": "biXJEyJ9vgM3"
      },
      "source": [
        "1. Use the model mdl_price_vs_conv to make predictions from explanatory_data and store it as price_twd_msq.\n",
        "2. Print the predictions.\n",
        "\n",
        "**HINT!**\n",
        "\n",
        "Use the .predict() method to calculate predictions.\n"
      ]
    },
    {
      "cell_type": "code",
      "execution_count": 7,
      "metadata": {
        "colab": {
          "base_uri": "https://localhost:8080/"
        },
        "id": "waKx3KeSvmUb",
        "outputId": "dddebbb0-7bed-4fc8-999f-6572fbc169a6"
      },
      "outputs": [
        {
          "name": "stdout",
          "output_type": "stream",
          "text": [
            "0      8.224237\n",
            "1      9.022317\n",
            "2      9.820397\n",
            "3     10.618477\n",
            "4     11.416556\n",
            "5     12.214636\n",
            "6     13.012716\n",
            "7     13.810795\n",
            "8     14.608875\n",
            "9     15.406955\n",
            "10    16.205035\n",
            "dtype: float64\n"
          ]
        }
      ],
      "source": [
        "# Use mdl_price_vs_conv to predict with explanatory_data, call it price_twd_msq\n",
        "price_twd_msq = ____\n",
        "\n",
        "# Print it\n",
        "print(price_twd_msq)"
      ]
    },
    {
      "cell_type": "code",
      "execution_count": 7,
      "metadata": {},
      "outputs": [
        {
          "name": "stdout",
          "output_type": "stream",
          "text": [
            "0      8.224237\n",
            "1      9.022317\n",
            "2      9.820397\n",
            "3     10.618477\n",
            "4     11.416556\n",
            "5     12.214636\n",
            "6     13.012716\n",
            "7     13.810795\n",
            "8     14.608875\n",
            "9     15.406955\n",
            "10    16.205035\n",
            "dtype: float64\n"
          ]
        }
      ],
      "source": [
        "#jawaban\n",
        "from statsmodels.formula.api import ols\n",
        "\n",
        "mdl_price_vs_conv = ols('price_twd_msq ~ n_convenience', data=taiwan_real_estate)\n",
        "mdl_price_vs_conv = mdl_price_vs_conv.fit()\n",
        "\n",
        "# Use mdl_price_vs_conv to predict with explanatory_data, call it price_twd_msq\n",
        "price_twd_msq = mdl_price_vs_conv.predict(explanatory_data)\n",
        "\n",
        "# Print it\n",
        "print(price_twd_msq)"
      ]
    },
    {
      "cell_type": "markdown",
      "metadata": {
        "id": "sBtKRfXJwHQQ"
      },
      "source": [
        "Create a DataFrame of predictions named prediction_data. Start with explanatory_data, then add an extra column, price_twd_msq, containing the predictions you created in the previous step.\n",
        "\n",
        "**HINT!**\n",
        "\n",
        "Use the .assign()"
      ]
    },
    {
      "cell_type": "code",
      "execution_count": 8,
      "metadata": {
        "colab": {
          "base_uri": "https://localhost:8080/"
        },
        "id": "Q9Dxgc8KwGwf",
        "outputId": "37dac3f3-9894-4ef2-d83e-42b2ad6359fa"
      },
      "outputs": [
        {
          "name": "stdout",
          "output_type": "stream",
          "text": [
            "    n_convenience  price_twd_msq\n",
            "0               0       8.224237\n",
            "1               1       9.022317\n",
            "2               2       9.820397\n",
            "3               3      10.618477\n",
            "4               4      11.416556\n",
            "5               5      12.214636\n",
            "6               6      13.012716\n",
            "7               7      13.810795\n",
            "8               8      14.608875\n",
            "9               9      15.406955\n",
            "10             10      16.205035\n"
          ]
        }
      ],
      "source": [
        "# Create prediction_data\n",
        "prediction_data = ____.____(\n",
        "    ____ = ____)\n",
        "\n",
        "# Print the result\n",
        "print(prediction_data)"
      ]
    },
    {
      "cell_type": "code",
      "execution_count": 8,
      "metadata": {},
      "outputs": [
        {
          "name": "stdout",
          "output_type": "stream",
          "text": [
            "    n_convenience  price_twd_msq\n",
            "0               0       8.224237\n",
            "1               1       9.022317\n",
            "2               2       9.820397\n",
            "3               3      10.618477\n",
            "4               4      11.416556\n",
            "5               5      12.214636\n",
            "6               6      13.012716\n",
            "7               7      13.810795\n",
            "8               8      14.608875\n",
            "9               9      15.406955\n",
            "10             10      16.205035\n"
          ]
        }
      ],
      "source": [
        "# jawaban\n",
        "\n",
        "# Create prediction_data\n",
        "prediction_data = explanatory_data.assign(\n",
        "    price_twd_msq = price_twd_msq)\n",
        "\n",
        "# Print the result\n",
        "print(prediction_data)"
      ]
    },
    {
      "cell_type": "markdown",
      "metadata": {
        "id": "38USpsjywX4F"
      },
      "source": [
        "## Visualizing predictions\n",
        "\n",
        "1. Create a new figure to plot multiple layers.\n",
        "2. Extend the plotting code to add points for the predictions in prediction_data. Color the points red.\n",
        "3. Display the layered plot."
      ]
    },
    {
      "cell_type": "code",
      "execution_count": 11,
      "metadata": {
        "colab": {
          "base_uri": "https://localhost:8080/",
          "height": 280
        },
        "id": "vakFEhCwwXZD",
        "outputId": "aa423757-16fc-42ef-a9db-606d7bfbf07a"
      },
      "outputs": [
        {
          "data": {
            "image/png": "[encoded data removed]",
            "text/plain": [
              "<Figure size 432x288 with 1 Axes>"
            ]
          },
          "metadata": {
            "needs_background": "light"
          },
          "output_type": "display_data"
        }
      ],
      "source": [
        "# Create a new figure, fig\n",
        "fig = ____\n",
        "\n",
        "sns.regplot(x=\"n_convenience\",\n",
        "            y=\"price_twd_msq\",\n",
        "            data=taiwan_real_estate,\n",
        "            ci=None)\n",
        "# Add a scatter plot layer to the regplot\n",
        "sns.____(____)\n",
        "\n",
        "# Show the layered plot\n",
        "plt.____()"
      ]
    },
    {
      "cell_type": "code",
      "execution_count": 10,
      "metadata": {},
      "outputs": [
        {
          "data": {
            "image/png": "[encoded data removed]",
            "text/plain": [
              "<Figure size 640x480 with 1 Axes>"
            ]
          },
          "metadata": {},
          "output_type": "display_data"
        }
      ],
      "source": [
        "# Create a new figure, fig\n",
        "fig = plt.figure()\n",
        "\n",
        "sns.regplot(x=\"n_convenience\",\n",
        "            y=\"price_twd_msq\",\n",
        "            data=taiwan_real_estate,\n",
        "            ci=None)\n",
        "# Add a scatter plot layer to the regplot\n",
        "sns.scatterplot(x=\"n_convenience\", y=\"price_twd_msq\",data=prediction_data, color=\"red\", alpha=1)\n",
        "\n",
        "# Show the layered plot\n",
        "plt.show()"
      ]
    },
    {
      "cell_type": "markdown",
      "metadata": {
        "id": "IQ6c525awoqV"
      },
      "source": [
        "## The limits of prediction\n",
        "\n",
        "1. Create some impossible explanatory data. Define a DataFrame impossible with one column, n_convenience, set to -1 in the first row, and 2.5 in the second row.\n",
        "2. Try predicting with mdl_price_vs_conv\n"
      ]
    },
    {
      "cell_type": "code",
      "execution_count": 13,
      "metadata": {
        "colab": {
          "base_uri": "https://localhost:8080/"
        },
        "id": "kpcYrXUyw0HV",
        "outputId": "5921b6af-c843-4f22-9631-0492bf22073a"
      },
      "outputs": [
        {
          "name": "stdout",
          "output_type": "stream",
          "text": [
            "0     7.426158\n",
            "1    10.219437\n",
            "dtype: float64\n"
          ]
        }
      ],
      "source": [
        "# Define a DataFrame impossible\n",
        "impossible = ____\n",
        "\n",
        "# Use mdl_price_vs_conv to predict with impossible, call it price_twd_msq\n",
        "price_twd_msq = ____\n",
        "price_twd_msq"
      ]
    },
    {
      "cell_type": "code",
      "execution_count": 11,
      "metadata": {},
      "outputs": [
        {
          "data": {
            "text/plain": [
              "0     7.426158\n",
              "1    10.219437\n",
              "dtype: float64"
            ]
          },
          "execution_count": 11,
          "metadata": {},
          "output_type": "execute_result"
        }
      ],
      "source": [
        "# Define a DataFrame impossible\n",
        "impossible = pd.DataFrame({\"n_convenience\": [-1, 2.5]})\n",
        "\n",
        "# Use mdl_price_vs_conv to predict with impossible, call it price_twd_msq\n",
        "price_twd_msq = mdl_price_vs_conv.predict(impossible)\n",
        "price_twd_msq"
      ]
    },
    {
      "cell_type": "markdown",
      "metadata": {
        "id": "66UkjTicxy3p"
      },
      "source": [
        "## Extracting model elements\n",
        "\n",
        "1. Print the parameters of mdl_price_vs_conv.\n",
        "2. Print the fitted values of mdl_price_vs_conv.\n",
        "3. Print the residuals of mdl_price_vs_conv.\n",
        "4. Print a summary of mdl_price_vs_conv.\n"
      ]
    },
    {
      "cell_type": "code",
      "execution_count": 14,
      "metadata": {
        "colab": {
          "base_uri": "https://localhost:8080/"
        },
        "id": "FVid9_XNx80p",
        "outputId": "a8daf800-0665-47ef-b4fc-2e08859e49ad"
      },
      "outputs": [
        {
          "name": "stdout",
          "output_type": "stream",
          "text": [
            "Intercept        8.224237\n",
            "n_convenience    0.798080\n",
            "dtype: float64\n",
            "0      16.205035\n",
            "1      15.406955\n",
            "2      12.214636\n",
            "3      12.214636\n",
            "4      12.214636\n",
            "         ...    \n",
            "409     8.224237\n",
            "410    15.406955\n",
            "411    13.810795\n",
            "412    12.214636\n",
            "413    15.406955\n",
            "Length: 414, dtype: float64\n",
            "0     -4.737561\n",
            "1     -2.638422\n",
            "2      2.097013\n",
            "3      4.366302\n",
            "4      0.826211\n",
            "         ...   \n",
            "409   -3.564631\n",
            "410   -0.278362\n",
            "411   -1.526378\n",
            "412    3.670387\n",
            "413    3.927387\n",
            "Length: 414, dtype: float64\n",
            "                            OLS Regression Results                            \n",
            "==============================================================================\n",
            "Dep. Variable:          price_twd_msq   R-squared:                       0.326\n",
            "Model:                            OLS   Adj. R-squared:                  0.324\n",
            "Method:                 Least Squares   F-statistic:                     199.3\n",
            "Date:                Sun, 31 Oct 2021   Prob (F-statistic):           3.41e-37\n",
            "Time:                        00:37:58   Log-Likelihood:                -1091.1\n",
            "No. Observations:                 414   AIC:                             2186.\n",
            "Df Residuals:                     412   BIC:                             2194.\n",
            "Df Model:                           1                                         \n",
            "Covariance Type:            nonrobust                                         \n",
            "=================================================================================\n",
            "                    coef    std err          t      P>|t|      [0.025      0.975]\n",
            "---------------------------------------------------------------------------------\n",
            "Intercept         8.2242      0.285     28.857      0.000       7.664       8.784\n",
            "n_convenience     0.7981      0.057     14.118      0.000       0.687       0.909\n",
            "==============================================================================\n",
            "Omnibus:                      171.927   Durbin-Watson:                   1.993\n",
            "Prob(Omnibus):                  0.000   Jarque-Bera (JB):             1417.242\n",
            "Skew:                           1.553   Prob(JB):                    1.78e-308\n",
            "Kurtosis:                      11.516   Cond. No.                         8.87\n",
            "==============================================================================\n",
            "\n",
            "Warnings:\n",
            "[1] Standard Errors assume that the covariance matrix of the errors is correctly specified.\n"
          ]
        }
      ],
      "source": [
        "# Print the model parameters of mdl_price_vs_conv\n",
        "print(____)\n",
        "\n",
        "# Print the fitted values of mdl_price_vs_conv\n",
        "print(____)\n",
        "\n",
        "# Print the residuals of mdl_price_vs_conv\n",
        "print(____)\n",
        "\n",
        "# Print a summary of mdl_price_vs_conv\n",
        "print(____)"
      ]
    },
    {
      "cell_type": "code",
      "execution_count": 12,
      "metadata": {},
      "outputs": [
        {
          "name": "stdout",
          "output_type": "stream",
          "text": [
            "Intercept        8.224237\n",
            "n_convenience    0.798080\n",
            "dtype: float64\n",
            "0      16.205035\n",
            "1      15.406955\n",
            "2      12.214636\n",
            "3      12.214636\n",
            "4      12.214636\n",
            "         ...    \n",
            "409     8.224237\n",
            "410    15.406955\n",
            "411    13.810795\n",
            "412    12.214636\n",
            "413    15.406955\n",
            "Length: 414, dtype: float64\n",
            "0     -4.737561\n",
            "1     -2.638422\n",
            "2      2.097013\n",
            "3      4.366302\n",
            "4      0.826211\n",
            "         ...   \n",
            "409   -3.564631\n",
            "410   -0.278362\n",
            "411   -1.526378\n",
            "412    3.670387\n",
            "413    3.927387\n",
            "Length: 414, dtype: float64\n",
            "                            OLS Regression Results                            \n",
            "==============================================================================\n",
            "Dep. Variable:          price_twd_msq   R-squared:                       0.326\n",
            "Model:                            OLS   Adj. R-squared:                  0.324\n",
            "Method:                 Least Squares   F-statistic:                     199.3\n",
            "Date:                Thu, 05 Oct 2023   Prob (F-statistic):           3.41e-37\n",
            "Time:                        21:22:33   Log-Likelihood:                -1091.1\n",
            "No. Observations:                 414   AIC:                             2186.\n",
            "Df Residuals:                     412   BIC:                             2194.\n",
            "Df Model:                           1                                         \n",
            "Covariance Type:            nonrobust                                         \n",
            "=================================================================================\n",
            "                    coef    std err          t      P>|t|      [0.025      0.975]\n",
            "---------------------------------------------------------------------------------\n",
            "Intercept         8.2242      0.285     28.857      0.000       7.664       8.784\n",
            "n_convenience     0.7981      0.057     14.118      0.000       0.687       0.909\n",
            "==============================================================================\n",
            "Omnibus:                      171.927   Durbin-Watson:                   1.993\n",
            "Prob(Omnibus):                  0.000   Jarque-Bera (JB):             1417.242\n",
            "Skew:                           1.553   Prob(JB):                    1.78e-308\n",
            "Kurtosis:                      11.516   Cond. No.                         8.87\n",
            "==============================================================================\n",
            "\n",
            "Notes:\n",
            "[1] Standard Errors assume that the covariance matrix of the errors is correctly specified.\n"
          ]
        }
      ],
      "source": [
        "# Print the model parameters of mdl_price_vs_conv\n",
        "print(mdl_price_vs_conv.params)\n",
        "\n",
        "# Print the fitted values of mdl_price_vs_conv\n",
        "print(mdl_price_vs_conv.fittedvalues)\n",
        "\n",
        "# Print the residuals of mdl_price_vs_conv\n",
        "print(mdl_price_vs_conv.resid)\n",
        "\n",
        "# Print a summary of mdl_price_vs_conv\n",
        "print(mdl_price_vs_conv.summary())"
      ]
    },
    {
      "cell_type": "markdown",
      "metadata": {
        "id": "NjWtMtgWyEJl"
      },
      "source": [
        "## Manually predicting house prices\n",
        "\n",
        "1. Get the coefficients/parameters of mdl_price_vs_conv, assigning to coeffs.\n",
        "2. Get the intercept, which is the first element of coeffs, assigning to intercept.\n",
        "3. Get the slope, which is the second element of coeffs, assigning to slope.\n",
        "4. Manually predict price_twd_msq using the formula, specifying the intercept, slope, and explanatory_data.\n",
        "5. Run the code to compare your manually calculated predictions to the results from .predict()."
      ]
    },
    {
      "cell_type": "code",
      "execution_count": 15,
      "metadata": {
        "colab": {
          "base_uri": "https://localhost:8080/"
        },
        "id": "yVnRK0jHyJme",
        "outputId": "13222670-1c15-454c-bce0-2f0245f0e665"
      },
      "outputs": [
        {
          "name": "stdout",
          "output_type": "stream",
          "text": [
            "    n_convenience\n",
            "0        8.224237\n",
            "1        9.022317\n",
            "2        9.820397\n",
            "3       10.618477\n",
            "4       11.416556\n",
            "5       12.214636\n",
            "6       13.012716\n",
            "7       13.810795\n",
            "8       14.608875\n",
            "9       15.406955\n",
            "10      16.205035\n",
            "    n_convenience  predictions_auto\n",
            "0        8.224237          8.224237\n",
            "1        9.022317          9.022317\n",
            "2        9.820397          9.820397\n",
            "3       10.618477         10.618477\n",
            "4       11.416556         11.416556\n",
            "5       12.214636         12.214636\n",
            "6       13.012716         13.012716\n",
            "7       13.810795         13.810795\n",
            "8       14.608875         14.608875\n",
            "9       15.406955         15.406955\n",
            "10      16.205035         16.205035\n"
          ]
        }
      ],
      "source": [
        "# Get the coefficients of mdl_price_vs_conv\n",
        "coeffs = ____\n",
        "\n",
        "# Get the intercept\n",
        "intercept = ____\n",
        "\n",
        "# Get the slope\n",
        "slope = ____\n",
        "\n",
        "# Manually calculate the predictions\n",
        "price_twd_msq = ____\n",
        "print(price_twd_msq)\n",
        "\n",
        "# Compare to the results from .predict()\n",
        "print(price_twd_msq.assign(predictions_auto=mdl_price_vs_conv.predict(explanatory_data)))"
      ]
    },
    {
      "cell_type": "code",
      "execution_count": 13,
      "metadata": {},
      "outputs": [
        {
          "name": "stdout",
          "output_type": "stream",
          "text": [
            "    n_convenience\n",
            "0        8.224237\n",
            "1        9.022317\n",
            "2        9.820397\n",
            "3       10.618477\n",
            "4       11.416556\n",
            "5       12.214636\n",
            "6       13.012716\n",
            "7       13.810795\n",
            "8       14.608875\n",
            "9       15.406955\n",
            "10      16.205035\n",
            "    n_convenience  predictions_auto\n",
            "0        8.224237          8.224237\n",
            "1        9.022317          9.022317\n",
            "2        9.820397          9.820397\n",
            "3       10.618477         10.618477\n",
            "4       11.416556         11.416556\n",
            "5       12.214636         12.214636\n",
            "6       13.012716         13.012716\n",
            "7       13.810795         13.810795\n",
            "8       14.608875         14.608875\n",
            "9       15.406955         15.406955\n",
            "10      16.205035         16.205035\n"
          ]
        }
      ],
      "source": [
        "# Get the coefficients of mdl_price_vs_conv\n",
        "coeffs =mdl_price_vs_conv.params\n",
        "\n",
        "# Get the intercept\n",
        "intercept = coeffs[0]\n",
        "\n",
        "# Get the slope\n",
        "slope = coeffs[1]\n",
        "\n",
        "# Manually calculate the predictions\n",
        "price_twd_msq = intercept + slope * explanatory_data\n",
        "print(price_twd_msq)\n",
        "\n",
        "# Compare to the results from .predict()\n",
        "print(price_twd_msq.assign(predictions_auto=mdl_price_vs_conv.predict(explanatory_data)))"
      ]
    },
    {
      "cell_type": "markdown",
      "metadata": {
        "id": "_1TsddhyyRUE"
      },
      "source": [
        "## Plotting consecutive portfolio returns\n",
        "\n",
        "1. Create a new figure, fig, to enable plot layering.\n",
        "2. Generate a line at y equals x. This has been done for you.\n",
        "3. Using sp500_yearly_returns, draw a scatter plot of return_2019 vs. return_2018 with a linear regression trend line, without a standard error ribbon.\n",
        "4. Set the axes so that the distances along the x and y axes look the same."
      ]
    },
    {
      "cell_type": "code",
      "execution_count": 14,
      "metadata": {
        "colab": {
          "base_uri": "https://localhost:8080/",
          "height": 423
        },
        "id": "LgvzxMkcyhRs",
        "outputId": "c6893d60-85e3-4ba7-8617-943ff174b4e0"
      },
      "outputs": [
        {
          "ename": "FileNotFoundError",
          "evalue": "[Errno 2] No such file or directory: 'sp500_yearly_returns.csv'",
          "output_type": "error",
          "traceback": [
            "\u001b[1;31m---------------------------------------------------------------------------\u001b[0m",
            "\u001b[1;31mFileNotFoundError\u001b[0m                         Traceback (most recent call last)",
            "\u001b[1;32md:\\Perkuliahan\\Stupen kampus merdeka\\MSIB Batch 5 (Hacktiv8)\\Hacktiv8\\tugas\\pert 11\\2_Prediction.ipynb Cell 25\u001b[0m line \u001b[0;36m1\n\u001b[1;32m----> <a href='vscode-notebook-cell:/d%3A/Perkuliahan/Stupen%20kampus%20merdeka/MSIB%20Batch%205%20%28Hacktiv8%29/Hacktiv8/tugas/pert%2011/2_Prediction.ipynb#X24sZmlsZQ%3D%3D?line=0'>1</a>\u001b[0m sp500_yearly_returns \u001b[39m=\u001b[39m pd\u001b[39m.\u001b[39mread_csv(\u001b[39m'\u001b[39m\u001b[39msp500_yearly_returns.csv\u001b[39m\u001b[39m'\u001b[39m)\n\u001b[0;32m      <a href='vscode-notebook-cell:/d%3A/Perkuliahan/Stupen%20kampus%20merdeka/MSIB%20Batch%205%20%28Hacktiv8%29/Hacktiv8/tugas/pert%2011/2_Prediction.ipynb#X24sZmlsZQ%3D%3D?line=1'>2</a>\u001b[0m sp500_yearly_returns\n",
            "File \u001b[1;32mc:\\Users\\fakhr\\anaconda3\\Lib\\site-packages\\pandas\\util\\_decorators.py:211\u001b[0m, in \u001b[0;36mdeprecate_kwarg.<locals>._deprecate_kwarg.<locals>.wrapper\u001b[1;34m(*args, **kwargs)\u001b[0m\n\u001b[0;32m    209\u001b[0m     \u001b[39melse\u001b[39;00m:\n\u001b[0;32m    210\u001b[0m         kwargs[new_arg_name] \u001b[39m=\u001b[39m new_arg_value\n\u001b[1;32m--> 211\u001b[0m \u001b[39mreturn\u001b[39;00m func(\u001b[39m*\u001b[39margs, \u001b[39m*\u001b[39m\u001b[39m*\u001b[39mkwargs)\n",
            "File \u001b[1;32mc:\\Users\\fakhr\\anaconda3\\Lib\\site-packages\\pandas\\util\\_decorators.py:331\u001b[0m, in \u001b[0;36mdeprecate_nonkeyword_arguments.<locals>.decorate.<locals>.wrapper\u001b[1;34m(*args, **kwargs)\u001b[0m\n\u001b[0;32m    325\u001b[0m \u001b[39mif\u001b[39;00m \u001b[39mlen\u001b[39m(args) \u001b[39m>\u001b[39m num_allow_args:\n\u001b[0;32m    326\u001b[0m     warnings\u001b[39m.\u001b[39mwarn(\n\u001b[0;32m    327\u001b[0m         msg\u001b[39m.\u001b[39mformat(arguments\u001b[39m=\u001b[39m_format_argument_list(allow_args)),\n\u001b[0;32m    328\u001b[0m         \u001b[39mFutureWarning\u001b[39;00m,\n\u001b[0;32m    329\u001b[0m         stacklevel\u001b[39m=\u001b[39mfind_stack_level(),\n\u001b[0;32m    330\u001b[0m     )\n\u001b[1;32m--> 331\u001b[0m \u001b[39mreturn\u001b[39;00m func(\u001b[39m*\u001b[39margs, \u001b[39m*\u001b[39m\u001b[39m*\u001b[39mkwargs)\n",
            "File \u001b[1;32mc:\\Users\\fakhr\\anaconda3\\Lib\\site-packages\\pandas\\io\\parsers\\readers.py:950\u001b[0m, in \u001b[0;36mread_csv\u001b[1;34m(filepath_or_buffer, sep, delimiter, header, names, index_col, usecols, squeeze, prefix, mangle_dupe_cols, dtype, engine, converters, true_values, false_values, skipinitialspace, skiprows, skipfooter, nrows, na_values, keep_default_na, na_filter, verbose, skip_blank_lines, parse_dates, infer_datetime_format, keep_date_col, date_parser, dayfirst, cache_dates, iterator, chunksize, compression, thousands, decimal, lineterminator, quotechar, quoting, doublequote, escapechar, comment, encoding, encoding_errors, dialect, error_bad_lines, warn_bad_lines, on_bad_lines, delim_whitespace, low_memory, memory_map, float_precision, storage_options)\u001b[0m\n\u001b[0;32m    935\u001b[0m kwds_defaults \u001b[39m=\u001b[39m _refine_defaults_read(\n\u001b[0;32m    936\u001b[0m     dialect,\n\u001b[0;32m    937\u001b[0m     delimiter,\n\u001b[1;32m   (...)\u001b[0m\n\u001b[0;32m    946\u001b[0m     defaults\u001b[39m=\u001b[39m{\u001b[39m\"\u001b[39m\u001b[39mdelimiter\u001b[39m\u001b[39m\"\u001b[39m: \u001b[39m\"\u001b[39m\u001b[39m,\u001b[39m\u001b[39m\"\u001b[39m},\n\u001b[0;32m    947\u001b[0m )\n\u001b[0;32m    948\u001b[0m kwds\u001b[39m.\u001b[39mupdate(kwds_defaults)\n\u001b[1;32m--> 950\u001b[0m \u001b[39mreturn\u001b[39;00m _read(filepath_or_buffer, kwds)\n",
            "File \u001b[1;32mc:\\Users\\fakhr\\anaconda3\\Lib\\site-packages\\pandas\\io\\parsers\\readers.py:605\u001b[0m, in \u001b[0;36m_read\u001b[1;34m(filepath_or_buffer, kwds)\u001b[0m\n\u001b[0;32m    602\u001b[0m _validate_names(kwds\u001b[39m.\u001b[39mget(\u001b[39m\"\u001b[39m\u001b[39mnames\u001b[39m\u001b[39m\"\u001b[39m, \u001b[39mNone\u001b[39;00m))\n\u001b[0;32m    604\u001b[0m \u001b[39m# Create the parser.\u001b[39;00m\n\u001b[1;32m--> 605\u001b[0m parser \u001b[39m=\u001b[39m TextFileReader(filepath_or_buffer, \u001b[39m*\u001b[39m\u001b[39m*\u001b[39mkwds)\n\u001b[0;32m    607\u001b[0m \u001b[39mif\u001b[39;00m chunksize \u001b[39mor\u001b[39;00m iterator:\n\u001b[0;32m    608\u001b[0m     \u001b[39mreturn\u001b[39;00m parser\n",
            "File \u001b[1;32mc:\\Users\\fakhr\\anaconda3\\Lib\\site-packages\\pandas\\io\\parsers\\readers.py:1442\u001b[0m, in \u001b[0;36mTextFileReader.__init__\u001b[1;34m(self, f, engine, **kwds)\u001b[0m\n\u001b[0;32m   1439\u001b[0m     \u001b[39mself\u001b[39m\u001b[39m.\u001b[39moptions[\u001b[39m\"\u001b[39m\u001b[39mhas_index_names\u001b[39m\u001b[39m\"\u001b[39m] \u001b[39m=\u001b[39m kwds[\u001b[39m\"\u001b[39m\u001b[39mhas_index_names\u001b[39m\u001b[39m\"\u001b[39m]\n\u001b[0;32m   1441\u001b[0m \u001b[39mself\u001b[39m\u001b[39m.\u001b[39mhandles: IOHandles \u001b[39m|\u001b[39m \u001b[39mNone\u001b[39;00m \u001b[39m=\u001b[39m \u001b[39mNone\u001b[39;00m\n\u001b[1;32m-> 1442\u001b[0m \u001b[39mself\u001b[39m\u001b[39m.\u001b[39m_engine \u001b[39m=\u001b[39m \u001b[39mself\u001b[39m\u001b[39m.\u001b[39m_make_engine(f, \u001b[39mself\u001b[39m\u001b[39m.\u001b[39mengine)\n",
            "File \u001b[1;32mc:\\Users\\fakhr\\anaconda3\\Lib\\site-packages\\pandas\\io\\parsers\\readers.py:1735\u001b[0m, in \u001b[0;36mTextFileReader._make_engine\u001b[1;34m(self, f, engine)\u001b[0m\n\u001b[0;32m   1733\u001b[0m     \u001b[39mif\u001b[39;00m \u001b[39m\"\u001b[39m\u001b[39mb\u001b[39m\u001b[39m\"\u001b[39m \u001b[39mnot\u001b[39;00m \u001b[39min\u001b[39;00m mode:\n\u001b[0;32m   1734\u001b[0m         mode \u001b[39m+\u001b[39m\u001b[39m=\u001b[39m \u001b[39m\"\u001b[39m\u001b[39mb\u001b[39m\u001b[39m\"\u001b[39m\n\u001b[1;32m-> 1735\u001b[0m \u001b[39mself\u001b[39m\u001b[39m.\u001b[39mhandles \u001b[39m=\u001b[39m get_handle(\n\u001b[0;32m   1736\u001b[0m     f,\n\u001b[0;32m   1737\u001b[0m     mode,\n\u001b[0;32m   1738\u001b[0m     encoding\u001b[39m=\u001b[39m\u001b[39mself\u001b[39m\u001b[39m.\u001b[39moptions\u001b[39m.\u001b[39mget(\u001b[39m\"\u001b[39m\u001b[39mencoding\u001b[39m\u001b[39m\"\u001b[39m, \u001b[39mNone\u001b[39;00m),\n\u001b[0;32m   1739\u001b[0m     compression\u001b[39m=\u001b[39m\u001b[39mself\u001b[39m\u001b[39m.\u001b[39moptions\u001b[39m.\u001b[39mget(\u001b[39m\"\u001b[39m\u001b[39mcompression\u001b[39m\u001b[39m\"\u001b[39m, \u001b[39mNone\u001b[39;00m),\n\u001b[0;32m   1740\u001b[0m     memory_map\u001b[39m=\u001b[39m\u001b[39mself\u001b[39m\u001b[39m.\u001b[39moptions\u001b[39m.\u001b[39mget(\u001b[39m\"\u001b[39m\u001b[39mmemory_map\u001b[39m\u001b[39m\"\u001b[39m, \u001b[39mFalse\u001b[39;00m),\n\u001b[0;32m   1741\u001b[0m     is_text\u001b[39m=\u001b[39mis_text,\n\u001b[0;32m   1742\u001b[0m     errors\u001b[39m=\u001b[39m\u001b[39mself\u001b[39m\u001b[39m.\u001b[39moptions\u001b[39m.\u001b[39mget(\u001b[39m\"\u001b[39m\u001b[39mencoding_errors\u001b[39m\u001b[39m\"\u001b[39m, \u001b[39m\"\u001b[39m\u001b[39mstrict\u001b[39m\u001b[39m\"\u001b[39m),\n\u001b[0;32m   1743\u001b[0m     storage_options\u001b[39m=\u001b[39m\u001b[39mself\u001b[39m\u001b[39m.\u001b[39moptions\u001b[39m.\u001b[39mget(\u001b[39m\"\u001b[39m\u001b[39mstorage_options\u001b[39m\u001b[39m\"\u001b[39m, \u001b[39mNone\u001b[39;00m),\n\u001b[0;32m   1744\u001b[0m )\n\u001b[0;32m   1745\u001b[0m \u001b[39massert\u001b[39;00m \u001b[39mself\u001b[39m\u001b[39m.\u001b[39mhandles \u001b[39mis\u001b[39;00m \u001b[39mnot\u001b[39;00m \u001b[39mNone\u001b[39;00m\n\u001b[0;32m   1746\u001b[0m f \u001b[39m=\u001b[39m \u001b[39mself\u001b[39m\u001b[39m.\u001b[39mhandles\u001b[39m.\u001b[39mhandle\n",
            "File \u001b[1;32mc:\\Users\\fakhr\\anaconda3\\Lib\\site-packages\\pandas\\io\\common.py:856\u001b[0m, in \u001b[0;36mget_handle\u001b[1;34m(path_or_buf, mode, encoding, compression, memory_map, is_text, errors, storage_options)\u001b[0m\n\u001b[0;32m    851\u001b[0m \u001b[39melif\u001b[39;00m \u001b[39misinstance\u001b[39m(handle, \u001b[39mstr\u001b[39m):\n\u001b[0;32m    852\u001b[0m     \u001b[39m# Check whether the filename is to be opened in binary mode.\u001b[39;00m\n\u001b[0;32m    853\u001b[0m     \u001b[39m# Binary mode does not support 'encoding' and 'newline'.\u001b[39;00m\n\u001b[0;32m    854\u001b[0m     \u001b[39mif\u001b[39;00m ioargs\u001b[39m.\u001b[39mencoding \u001b[39mand\u001b[39;00m \u001b[39m\"\u001b[39m\u001b[39mb\u001b[39m\u001b[39m\"\u001b[39m \u001b[39mnot\u001b[39;00m \u001b[39min\u001b[39;00m ioargs\u001b[39m.\u001b[39mmode:\n\u001b[0;32m    855\u001b[0m         \u001b[39m# Encoding\u001b[39;00m\n\u001b[1;32m--> 856\u001b[0m         handle \u001b[39m=\u001b[39m \u001b[39mopen\u001b[39m(\n\u001b[0;32m    857\u001b[0m             handle,\n\u001b[0;32m    858\u001b[0m             ioargs\u001b[39m.\u001b[39mmode,\n\u001b[0;32m    859\u001b[0m             encoding\u001b[39m=\u001b[39mioargs\u001b[39m.\u001b[39mencoding,\n\u001b[0;32m    860\u001b[0m             errors\u001b[39m=\u001b[39merrors,\n\u001b[0;32m    861\u001b[0m             newline\u001b[39m=\u001b[39m\u001b[39m\"\u001b[39m\u001b[39m\"\u001b[39m,\n\u001b[0;32m    862\u001b[0m         )\n\u001b[0;32m    863\u001b[0m     \u001b[39melse\u001b[39;00m:\n\u001b[0;32m    864\u001b[0m         \u001b[39m# Binary mode\u001b[39;00m\n\u001b[0;32m    865\u001b[0m         handle \u001b[39m=\u001b[39m \u001b[39mopen\u001b[39m(handle, ioargs\u001b[39m.\u001b[39mmode)\n",
            "\u001b[1;31mFileNotFoundError\u001b[0m: [Errno 2] No such file or directory: 'sp500_yearly_returns.csv'"
          ]
        }
      ],
      "source": [
        "sp500_yearly_returns = pd.read_csv('sp500_yearly_returns.csv')\n",
        "sp500_yearly_returns"
      ]
    },
    {
      "cell_type": "code",
      "execution_count": 23,
      "metadata": {
        "colab": {
          "base_uri": "https://localhost:8080/",
          "height": 280
        },
        "id": "fw9r1b6gyQTh",
        "outputId": "0e86ad0c-c996-42a5-c994-496de2e65dba"
      },
      "outputs": [
        {
          "data": {
            "image/png": "[encoded data removed]",
            "text/plain": [
              "<Figure size 432x288 with 1 Axes>"
            ]
          },
          "metadata": {
            "needs_background": "light"
          },
          "output_type": "display_data"
        }
      ],
      "source": [
        "# Create a new figure, fig\n",
        "fig = plt.____\n",
        "\n",
        "# Plot the first layer: y = x\n",
        "plt.axline(xy1=(0,0), slope=1, linewidth=2, color=\"green\")\n",
        "\n",
        "# Add scatter plot with linear regression trend line\n",
        "sns.____(____)\n",
        "\n",
        "# Set the axes so that the distances along the x and y axes look the same\n",
        "plt.____(____)\n",
        "\n",
        "# Show the plot\n",
        "plt.show()"
      ]
    },
    {
      "cell_type": "code",
      "execution_count": 15,
      "metadata": {},
      "outputs": [
        {
          "ename": "NameError",
          "evalue": "name 'sp500_yearly_returns' is not defined",
          "output_type": "error",
          "traceback": [
            "\u001b[1;31m---------------------------------------------------------------------------\u001b[0m",
            "\u001b[1;31mNameError\u001b[0m                                 Traceback (most recent call last)",
            "\u001b[1;32md:\\Perkuliahan\\Stupen kampus merdeka\\MSIB Batch 5 (Hacktiv8)\\Hacktiv8\\tugas\\pert 11\\2_Prediction.ipynb Cell 27\u001b[0m line \u001b[0;36m8\n\u001b[0;32m      <a href='vscode-notebook-cell:/d%3A/Perkuliahan/Stupen%20kampus%20merdeka/MSIB%20Batch%205%20%28Hacktiv8%29/Hacktiv8/tugas/pert%2011/2_Prediction.ipynb#Y100sZmlsZQ%3D%3D?line=4'>5</a>\u001b[0m plt\u001b[39m.\u001b[39maxline(xy1\u001b[39m=\u001b[39m(\u001b[39m0\u001b[39m,\u001b[39m0\u001b[39m), slope\u001b[39m=\u001b[39m\u001b[39m1\u001b[39m, linewidth\u001b[39m=\u001b[39m\u001b[39m2\u001b[39m, color\u001b[39m=\u001b[39m\u001b[39m\"\u001b[39m\u001b[39mgreen\u001b[39m\u001b[39m\"\u001b[39m)\n\u001b[0;32m      <a href='vscode-notebook-cell:/d%3A/Perkuliahan/Stupen%20kampus%20merdeka/MSIB%20Batch%205%20%28Hacktiv8%29/Hacktiv8/tugas/pert%2011/2_Prediction.ipynb#Y100sZmlsZQ%3D%3D?line=6'>7</a>\u001b[0m \u001b[39m# Add scatter plot with linear regression trend line\u001b[39;00m\n\u001b[1;32m----> <a href='vscode-notebook-cell:/d%3A/Perkuliahan/Stupen%20kampus%20merdeka/MSIB%20Batch%205%20%28Hacktiv8%29/Hacktiv8/tugas/pert%2011/2_Prediction.ipynb#Y100sZmlsZQ%3D%3D?line=7'>8</a>\u001b[0m sns\u001b[39m.\u001b[39mregplot(x\u001b[39m=\u001b[39m\u001b[39m\"\u001b[39m\u001b[39mreturn_2018\u001b[39m\u001b[39m\"\u001b[39m, y\u001b[39m=\u001b[39m\u001b[39m\"\u001b[39m\u001b[39mreturn_2019\u001b[39m\u001b[39m\"\u001b[39m, data\u001b[39m=\u001b[39msp500_yearly_returns, ci\u001b[39m=\u001b[39m\u001b[39mNone\u001b[39;00m)\n\u001b[0;32m     <a href='vscode-notebook-cell:/d%3A/Perkuliahan/Stupen%20kampus%20merdeka/MSIB%20Batch%205%20%28Hacktiv8%29/Hacktiv8/tugas/pert%2011/2_Prediction.ipynb#Y100sZmlsZQ%3D%3D?line=9'>10</a>\u001b[0m \u001b[39m# Set the axes so that the distances along the x and y axes look the same\u001b[39;00m\n\u001b[0;32m     <a href='vscode-notebook-cell:/d%3A/Perkuliahan/Stupen%20kampus%20merdeka/MSIB%20Batch%205%20%28Hacktiv8%29/Hacktiv8/tugas/pert%2011/2_Prediction.ipynb#Y100sZmlsZQ%3D%3D?line=10'>11</a>\u001b[0m plt\u001b[39m.\u001b[39maxis(\u001b[39m\"\u001b[39m\u001b[39mequal\u001b[39m\u001b[39m\"\u001b[39m)\n",
            "\u001b[1;31mNameError\u001b[0m: name 'sp500_yearly_returns' is not defined"
          ]
        },
        {
          "data": {
            "image/png": "[encoded data removed]",
            "text/plain": [
              "<Figure size 640x480 with 1 Axes>"
            ]
          },
          "metadata": {},
          "output_type": "display_data"
        }
      ],
      "source": [
        "# Create a new figure, fig\n",
        "fig = plt.figure\n",
        "\n",
        "# Plot the first layer: y = x\n",
        "plt.axline(xy1=(0,0), slope=1, linewidth=2, color=\"green\")\n",
        "\n",
        "# Add scatter plot with linear regression trend line\n",
        "sns.regplot(x=\"return_2018\", y=\"return_2019\", data=sp500_yearly_returns, ci=None)\n",
        "\n",
        "# Set the axes so that the distances along the x and y axes look the same\n",
        "plt.axis(\"equal\")\n",
        "\n",
        "# Show the plot\n",
        "plt.show()"
      ]
    },
    {
      "cell_type": "markdown",
      "metadata": {
        "id": "_NITIvIHzbc-"
      },
      "source": [
        "## Modeling consecutive returns\n",
        "\n",
        "1. Run a linear regression on return_2019 versus return_2018 using sp500_yearly_returns and fit the model. Assign to mdl_returns.\n",
        "2. Print the parameters of the model.\n"
      ]
    },
    {
      "cell_type": "code",
      "execution_count": 24,
      "metadata": {
        "colab": {
          "base_uri": "https://localhost:8080/"
        },
        "id": "pn-vKVn1zazZ",
        "outputId": "2530756f-6d16-4423-b0f1-db1ad658d999"
      },
      "outputs": [
        {
          "name": "stdout",
          "output_type": "stream",
          "text": [
            "Intercept      0.321321\n",
            "return_2018    0.020069\n",
            "dtype: float64\n"
          ]
        }
      ],
      "source": [
        "# Run a linear regression on return_2019 vs. return_2018 using sp500_yearly_returns\n",
        "mdl_returns = ____\n",
        "\n",
        "# Print the parameters\n",
        "____"
      ]
    },
    {
      "cell_type": "markdown",
      "metadata": {
        "id": "yv_G0lQJzjyT"
      },
      "source": [
        "1. Create a DataFrame named explanatory_data. Give it one column (return_2018) with 2018 returns set to a list containing -1, 0, and 1.\n",
        "2. Use mdl_returns to predict with explanatory_data in a print() call."
      ]
    },
    {
      "cell_type": "code",
      "execution_count": 25,
      "metadata": {
        "colab": {
          "base_uri": "https://localhost:8080/"
        },
        "id": "n8Y0sPmyzjDT",
        "outputId": "4279546e-3c51-4ac4-e96a-a4e0af552c73"
      },
      "outputs": [
        {
          "name": "stdout",
          "output_type": "stream",
          "text": [
            "0    0.301251\n",
            "1    0.321321\n",
            "2    0.341390\n",
            "dtype: float64\n"
          ]
        }
      ],
      "source": [
        "# Create a DataFrame with return_2018 at -1, 0, and 1 \n",
        "explanatory_data = ____\n",
        "\n",
        "# Use mdl_returns to predict with explanatory_data\n",
        "print(____)"
      ]
    },
    {
      "cell_type": "markdown",
      "metadata": {
        "id": "aGvNqQmUzsFv"
      },
      "source": [
        "## Transforming the explanatory variable\n",
        "\n",
        "1. Add a new column to taiwan_real_estate called sqrt_dist_to_mrt_m that contains the square root of dist_to_mrt_m.\n",
        "2. Run a linear regression of price_twd_msq versus the square root of dist_to_mrt_m using taiwan_real_estate.\n",
        "3. Print the parameters."
      ]
    },
    {
      "cell_type": "code",
      "execution_count": 39,
      "metadata": {
        "colab": {
          "base_uri": "https://localhost:8080/"
        },
        "id": "qUM994iRzrrT",
        "outputId": "b1c98384-eb1d-4ad6-f96c-88b85cd1e5c9"
      },
      "outputs": [
        {
          "name": "stdout",
          "output_type": "stream",
          "text": [
            "Intercept             16.709799\n",
            "sqrt_dist_to_mrt_m    -0.182843\n",
            "dtype: float64\n"
          ]
        }
      ],
      "source": [
        "# Create sqrt_dist_to_mrt_m\n",
        "taiwan_real_estate[\"____\"] = ____(____[\"____\"])\n",
        "\n",
        "# Run a linear regression of price_twd_msq vs. square root of dist_to_mrt_m using taiwan_real_estate\n",
        "mdl_price_vs_dist = ____\n",
        "\n",
        "# Print the parameters\n",
        "____"
      ]
    },
    {
      "cell_type": "markdown",
      "metadata": {
        "id": "Vrnemjiyz82a"
      },
      "source": [
        "1. Create a DataFrame of predictions named prediction_data by adding a column of predictions called price_twd_msq to explanatory_data. Predict using mdl_price_vs_dist and explanatory_data.\n",
        "2. Print the predictions."
      ]
    },
    {
      "cell_type": "code",
      "execution_count": 27,
      "metadata": {
        "colab": {
          "base_uri": "https://localhost:8080/"
        },
        "id": "HpSI5DBoz8HE",
        "outputId": "2fd1f9d2-c612-4164-b2c0-69a937d74ab1"
      },
      "outputs": [
        {
          "name": "stdout",
          "output_type": "stream",
          "text": [
            "   sqrt_dist_to_mrt_m  dist_to_mrt_m  price_twd_msq\n",
            "0                 0.0              0      16.709799\n",
            "1                10.0            100      14.881370\n",
            "2                20.0            400      13.052942\n",
            "3                30.0            900      11.224513\n",
            "4                40.0           1600       9.396085\n",
            "5                50.0           2500       7.567656\n",
            "6                60.0           3600       5.739227\n",
            "7                70.0           4900       3.910799\n",
            "8                80.0           6400       2.082370\n"
          ]
        }
      ],
      "source": [
        "# Create sqrt_dist_to_mrt_m\n",
        "taiwan_real_estate[\"sqrt_dist_to_mrt_m\"] = np.sqrt(taiwan_real_estate[\"dist_to_mrt_m\"])\n",
        "\n",
        "# Run a linear regression of price_twd_msq vs. square root of dist_to_mrt_m using taiwan_real_estate\n",
        "mdl_price_vs_dist = ____\n",
        "\n",
        "# Print the parameters\n",
        "____"
      ]
    },
    {
      "cell_type": "markdown",
      "metadata": {
        "id": "pHNhUIIj0DEg"
      },
      "source": [
        "Add a layer to your plot containing points from prediction_data, colored \"red\".\n"
      ]
    },
    {
      "cell_type": "code",
      "execution_count": 28,
      "metadata": {
        "colab": {
          "base_uri": "https://localhost:8080/",
          "height": 280
        },
        "id": "JwNhPhRl0CmX",
        "outputId": "75ac00ea-1f2a-4c76-f706-18fbbdbeb665"
      },
      "outputs": [
        {
          "data": {
            "image/png": "[encoded data removed]",
            "text/plain": [
              "<Figure size 432x288 with 1 Axes>"
            ]
          },
          "metadata": {
            "needs_background": "light"
          },
          "output_type": "display_data"
        }
      ],
      "source": [
        "explanatory_data = pd.DataFrame({\"sqrt_dist_to_mrt_m\": np.sqrt(np.arange(0, 81, 10) ** 2),\n",
        "                                \"dist_to_mrt_m\": np.arange(0, 81, 10) ** 2})\n",
        "\n",
        "# Create prediction_data by adding a column of predictions to explantory_data\n",
        "prediction_data = explanatory_data.____(\n",
        "    price_twd_msq = ____\n",
        ")\n",
        "\n",
        "# Print the result\n",
        "____\n",
        "\n",
        "fig = plt.figure()\n",
        "sns.regplot(x=\"sqrt_dist_to_mrt_m\", y=\"price_twd_msq\", data=taiwan_real_estate, ci=None)\n",
        "\n",
        "# Add a layer of your prediction points\n",
        "____(____, ____, ____, color=____)\n",
        "plt.show()"
      ]
    },
    {
      "cell_type": "markdown",
      "metadata": {
        "id": "YSg3GKRU0H8Z"
      },
      "source": [
        "## Transforming the response variable too\n",
        "\n",
        "1. Create a qdrt_n_impressions column using n_impressions raised to the power of 0.25.\n",
        "2. Create a qdrt_n_clicks column using n_clicks raised to the power of 0.25.\n",
        "3. Create a regression plot using the transformed variables"
      ]
    },
    {
      "cell_type": "code",
      "execution_count": 31,
      "metadata": {
        "colab": {
          "base_uri": "https://localhost:8080/",
          "height": 423
        },
        "id": "dUkoxOzg0ZGC",
        "outputId": "cb7e1768-50c1-4ff9-da68-e4610f985ddd"
      },
      "outputs": [
        {
          "data": {
            "text/html": [
              "<div>\n",
              "<style scoped>\n",
              "    .dataframe tbody tr th:only-of-type {\n",
              "        vertical-align: middle;\n",
              "    }\n",
              "\n",
              "    .dataframe tbody tr th {\n",
              "        vertical-align: top;\n",
              "    }\n",
              "\n",
              "    .dataframe thead th {\n",
              "        text-align: right;\n",
              "    }\n",
              "</style>\n",
              "<table border=\"1\" class=\"dataframe\">\n",
              "  <thead>\n",
              "    <tr style=\"text-align: right;\">\n",
              "      <th></th>\n",
              "      <th>spent_usd</th>\n",
              "      <th>n_impressions</th>\n",
              "      <th>n_clicks</th>\n",
              "    </tr>\n",
              "  </thead>\n",
              "  <tbody>\n",
              "    <tr>\n",
              "      <th>0</th>\n",
              "      <td>1.430000</td>\n",
              "      <td>7350</td>\n",
              "      <td>1</td>\n",
              "    </tr>\n",
              "    <tr>\n",
              "      <th>1</th>\n",
              "      <td>1.820000</td>\n",
              "      <td>17861</td>\n",
              "      <td>2</td>\n",
              "    </tr>\n",
              "    <tr>\n",
              "      <th>2</th>\n",
              "      <td>1.250000</td>\n",
              "      <td>4259</td>\n",
              "      <td>1</td>\n",
              "    </tr>\n",
              "    <tr>\n",
              "      <th>3</th>\n",
              "      <td>1.290000</td>\n",
              "      <td>4133</td>\n",
              "      <td>1</td>\n",
              "    </tr>\n",
              "    <tr>\n",
              "      <th>4</th>\n",
              "      <td>4.770000</td>\n",
              "      <td>15615</td>\n",
              "      <td>3</td>\n",
              "    </tr>\n",
              "    <tr>\n",
              "      <th>...</th>\n",
              "      <td>...</td>\n",
              "      <td>...</td>\n",
              "      <td>...</td>\n",
              "    </tr>\n",
              "    <tr>\n",
              "      <th>931</th>\n",
              "      <td>358.189997</td>\n",
              "      <td>1129773</td>\n",
              "      <td>252</td>\n",
              "    </tr>\n",
              "    <tr>\n",
              "      <th>932</th>\n",
              "      <td>173.880003</td>\n",
              "      <td>637549</td>\n",
              "      <td>120</td>\n",
              "    </tr>\n",
              "    <tr>\n",
              "      <th>933</th>\n",
              "      <td>40.289999</td>\n",
              "      <td>151531</td>\n",
              "      <td>28</td>\n",
              "    </tr>\n",
              "    <tr>\n",
              "      <th>934</th>\n",
              "      <td>198.710000</td>\n",
              "      <td>790253</td>\n",
              "      <td>135</td>\n",
              "    </tr>\n",
              "    <tr>\n",
              "      <th>935</th>\n",
              "      <td>165.609999</td>\n",
              "      <td>513161</td>\n",
              "      <td>114</td>\n",
              "    </tr>\n",
              "  </tbody>\n",
              "</table>\n",
              "<p>936 rows × 3 columns</p>\n",
              "</div>"
            ],
            "text/plain": [
              "      spent_usd  n_impressions  n_clicks\n",
              "0      1.430000           7350         1\n",
              "1      1.820000          17861         2\n",
              "2      1.250000           4259         1\n",
              "3      1.290000           4133         1\n",
              "4      4.770000          15615         3\n",
              "..          ...            ...       ...\n",
              "931  358.189997        1129773       252\n",
              "932  173.880003         637549       120\n",
              "933   40.289999         151531        28\n",
              "934  198.710000         790253       135\n",
              "935  165.609999         513161       114\n",
              "\n",
              "[936 rows x 3 columns]"
            ]
          },
          "execution_count": 31,
          "metadata": {},
          "output_type": "execute_result"
        }
      ],
      "source": [
        "ad_conversion = pd.read_csv('ad_conversion.csv')\n",
        "ad_conversion"
      ]
    },
    {
      "cell_type": "code",
      "execution_count": 33,
      "metadata": {
        "colab": {
          "base_uri": "https://localhost:8080/",
          "height": 280
        },
        "id": "pYXe6oSB0QYs",
        "outputId": "ba6c7abe-b0ad-453d-cac8-23b600bb0178"
      },
      "outputs": [
        {
          "data": {
            "image/png": "[encoded data removed]",
            "text/plain": [
              "<Figure size 432x288 with 1 Axes>"
            ]
          },
          "metadata": {
            "needs_background": "light"
          },
          "output_type": "display_data"
        }
      ],
      "source": [
        "# Create qdrt_n_impressions and qdrt_n_clicks\n",
        "ad_conversion[\"qdrt_n_impressions\"] = ____\n",
        "ad_conversion[\"qdrt_n_clicks\"] = ____\n",
        "\n",
        "plt.figure()\n",
        "\n",
        "# Plot using the transformed variables\n",
        "sns.regplot(____)\n",
        "plt.show()"
      ]
    },
    {
      "cell_type": "markdown",
      "metadata": {
        "id": "tQNn1a6X0j8z"
      },
      "source": [
        "Run a linear regression of qdrt_n_clicks versus qdrt_n_impressions using ad_conversion and assign it to mdl_click_vs_impression.\n"
      ]
    },
    {
      "cell_type": "code",
      "execution_count": 34,
      "metadata": {
        "id": "ODU_s7NO0jbI"
      },
      "outputs": [],
      "source": [
        "# Run a linear regression of your transformed variables\n",
        "mdl_click_vs_impression = ____"
      ]
    },
    {
      "cell_type": "markdown",
      "metadata": {
        "id": "EPpY_CT50ptg"
      },
      "source": [
        "Complete the code to create the prediction data.\n"
      ]
    },
    {
      "cell_type": "code",
      "execution_count": 35,
      "metadata": {
        "colab": {
          "base_uri": "https://localhost:8080/"
        },
        "id": "T1dlY_XV0orO",
        "outputId": "95121469-0d34-478a-b985-b29d08e0ce1b"
      },
      "outputs": [
        {
          "name": "stdout",
          "output_type": "stream",
          "text": [
            "   qdrt_n_impressions  n_impressions  qdrt_n_clicks\n",
            "0            0.000000            0.0       0.071748\n",
            "1           26.591479       500000.0       3.037576\n",
            "2           31.622777      1000000.0       3.598732\n",
            "3           34.996355      1500000.0       3.974998\n",
            "4           37.606031      2000000.0       4.266063\n",
            "5           39.763536      2500000.0       4.506696\n",
            "6           41.617915      3000000.0       4.713520\n"
          ]
        }
      ],
      "source": [
        "# Complete prediction_data\n",
        "prediction_data = explanatory_data.assign(\n",
        "    qdrt_n_clicks = ____\n",
        ")\n",
        "\n",
        "# Print the result\n",
        "print(____)"
      ]
    },
    {
      "cell_type": "markdown",
      "metadata": {
        "id": "8KjknLp40xV-"
      },
      "source": [
        "## Back transformation\n",
        "\n",
        "Back transform the response variable in prediction_data by raising qdrt_n_clicks to the power 4 to get n_clicks.\n"
      ]
    },
    {
      "cell_type": "code",
      "execution_count": 36,
      "metadata": {
        "colab": {
          "base_uri": "https://localhost:8080/"
        },
        "id": "p7c6nsTl0xEx",
        "outputId": "59c41d40-95f1-4101-f32c-d03db0534838"
      },
      "outputs": [
        {
          "name": "stdout",
          "output_type": "stream",
          "text": [
            "   qdrt_n_impressions  n_impressions  qdrt_n_clicks    n_clicks\n",
            "0            0.000000            0.0       0.071748    0.000026\n",
            "1           26.591479       500000.0       3.037576   85.135121\n",
            "2           31.622777      1000000.0       3.598732  167.725102\n",
            "3           34.996355      1500000.0       3.974998  249.659131\n",
            "4           37.606031      2000000.0       4.266063  331.214159\n",
            "5           39.763536      2500000.0       4.506696  412.508546\n",
            "6           41.617915      3000000.0       4.713520  493.607180\n"
          ]
        }
      ],
      "source": [
        "# Back transform qdrt_n_clicks\n",
        "prediction_data[\"n_clicks\"] = ____\n",
        "print(prediction_data)"
      ]
    },
    {
      "cell_type": "markdown",
      "metadata": {
        "id": "N7Si-qEF03QO"
      },
      "source": [
        "Edit the plot to add a layer of points from prediction_data, colored \"red\".\n"
      ]
    },
    {
      "cell_type": "code",
      "execution_count": 37,
      "metadata": {
        "colab": {
          "base_uri": "https://localhost:8080/",
          "height": 280
        },
        "id": "aOe2Qei708QU",
        "outputId": "7f9f945f-d326-41c9-e08a-99da56b55192"
      },
      "outputs": [
        {
          "data": {
            "image/png": "[encoded data removed]",
            "text/plain": [
              "<Figure size 432x288 with 1 Axes>"
            ]
          },
          "metadata": {
            "needs_background": "light"
          },
          "output_type": "display_data"
        }
      ],
      "source": [
        "# Plot the transformed variables\n",
        "fig = plt.figure()\n",
        "sns.regplot(x=\"qdrt_n_impressions\", y=\"qdrt_n_clicks\", data=ad_conversion, ci=None)\n",
        "\n",
        "# Add a layer of your prediction points\n",
        "sns.____(____, ____, ____, color=____)\n",
        "plt.show()"
      ]
    }
  ],
  "metadata": {
    "colab": {
      "name": "2. Prediction.ipynb",
      "provenance": []
    },
    "kernelspec": {
      "display_name": "Python 3",
      "name": "python3"
    },
    "language_info": {
      "codemirror_mode": {
        "name": "ipython",
        "version": 3
      },
      "file_extension": ".py",
      "mimetype": "text/x-python",
      "name": "python",
      "nbconvert_exporter": "python",
      "pygments_lexer": "ipython3",
      "version": "3.11.4"
    }
  },
  "nbformat": 4,
  "nbformat_minor": 0
}
