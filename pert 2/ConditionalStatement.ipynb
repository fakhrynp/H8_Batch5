{
  "nbformat": 4,
  "nbformat_minor": 0,
  "metadata": {
    "colab": {
      "provenance": []
    },
    "kernelspec": {
      "name": "python3",
      "display_name": "Python 3"
    },
    "language_info": {
      "name": "python"
    }
  },
  "cells": [
    {
      "cell_type": "markdown",
      "source": [
        "**Nama: Naufal Fakhry Pratama**\n",
        "**Kode-peserta : PYTN-KS18-014 **"
      ],
      "metadata": {
        "id": "52e5_6cIa_3d"
      }
    },
    {
      "cell_type": "markdown",
      "source": [
        "**SOAL 1**\n",
        "Buatlah sebuah program untuk menentukan apakah sebuah bilangan termasuk kedalam bilangan\n",
        "ganjil atau bilangan genap. Sebagai tambahan, apabila ditemukan angka 0 berikan keterangan\n",
        "bahwa 0 bukanlah bilangan ganjil atau genap, serta apabila inputan yang dimasukan kurang dari\n",
        "0 (bilangan negative), maka berikan output untuk memberi tau kalua inputan yang benar adalah\n",
        "bilangan bulat positif."
      ],
      "metadata": {
        "id": "orP7MZyVXUo5"
      }
    },
    {
      "cell_type": "code",
      "execution_count": 2,
      "metadata": {
        "colab": {
          "base_uri": "https://localhost:8080/"
        },
        "id": "O6I6peqJXG3Z",
        "outputId": "5ae491d0-5261-4202-ac82-b088e96be2ad"
      },
      "outputs": [
        {
          "output_type": "stream",
          "name": "stdout",
          "text": [
            "Masukkan sebuah bilangan: -1\n",
            "Input yang benar adalah bilangan bulat positif.\n"
          ]
        }
      ],
      "source": [
        "num = int(input(\"Masukkan sebuah bilangan: \"))\n",
        "\n",
        "if num == 0:\n",
        "    print(\"Angka 0 bukanlah bilangan ganjil atau genap.\")\n",
        "elif num < 0:\n",
        "    print(\"Input yang benar adalah bilangan bulat positif.\")\n",
        "elif num % 2 == 0:\n",
        "    print(f\"{num} adalah bilangan genap.\")\n",
        "else:\n",
        "    print(f\"{num} adalah bilangan ganjil.\")\n"
      ]
    },
    {
      "cell_type": "markdown",
      "source": [
        "**Soal 2**\n",
        "Buatlah sebuah program menu untuk menghitung beberapa rumus bangun ruang.\n",
        "1. Ketika memasukan angka 1, akan menghitung rumus segitiga\n",
        "2. Ketika memasukan angka 2, akan menghitung rumus persegi\n",
        "3. Ketika memasukan angka 3 atau karakter lain, akan mengeluarkan output ‘Masukan\n",
        "Inputan Yang Benar’"
      ],
      "metadata": {
        "id": "5WadgigQXiNR"
      }
    },
    {
      "cell_type": "code",
      "source": [
        "while True:\n",
        "    print(\"Menu:\")\n",
        "    print(\"1. Hitung Luas Segitiga\")\n",
        "    print(\"2. Hitung Luas Persegi\")\n",
        "    print(\"3. Keluar\")\n",
        "\n",
        "    pilihan = input(\"Masukkan pilihan (1/2/3): \")\n",
        "\n",
        "    if pilihan == '1':\n",
        "        alas = float(input(\"Masukkan alas segitiga: \"))\n",
        "        tinggi = float(input(\"Masukkan tinggi segitiga: \"))\n",
        "        luas = 0.5 * alas * tinggi\n",
        "        print(f\"Luas segitiga: {luas}\")\n",
        "    elif pilihan == '2':\n",
        "        sisi = float(input(\"Masukkan panjang sisi persegi: \"))\n",
        "        luas = sisi * sisi\n",
        "        print(f\"Luas persegi: {luas}\")\n",
        "    elif pilihan == '3':\n",
        "        print(\"Terima kasih!\")\n",
        "        break\n",
        "    else:\n",
        "        print(\"Masukan Inputan Yang Benar\")\n",
        "\n"
      ],
      "metadata": {
        "colab": {
          "base_uri": "https://localhost:8080/"
        },
        "id": "Q9rv2uyIXl-r",
        "outputId": "ea7fba09-0f22-4ce6-ade6-c07f5b9c9ec7"
      },
      "execution_count": 4,
      "outputs": [
        {
          "output_type": "stream",
          "name": "stdout",
          "text": [
            "Menu:\n",
            "1. Hitung Luas Segitiga\n",
            "2. Hitung Luas Persegi\n",
            "3. Keluar\n",
            "Masukkan pilihan (1/2/3): 3\n",
            "Terima kasih!\n"
          ]
        }
      ]
    },
    {
      "cell_type": "markdown",
      "source": [
        "**SOAL 3**\n",
        "Buatlah sebuah program untuk membuat detail tahun, bulan, minggu hingga hari dari total\n",
        "jumlah hari yang dimasukan. Catatnnya adalah 1 Tahun = 360 Hari; 1 Bulan = 30 Hari; 1 Minggu\n",
        "= 7 Hari."
      ],
      "metadata": {
        "id": "knqOYBLvbVTP"
      }
    },
    {
      "cell_type": "code",
      "source": [
        "total_hari = int(input(\"Masukkan total jumlah hari: \"))\n",
        "\n",
        "tahun = total_hari // 365\n",
        "sisa_hari_tahun = total_hari % 365\n",
        "\n",
        "bulan = sisa_hari_tahun // 30\n",
        "sisa_hari_bulan = sisa_hari_tahun % 30\n",
        "\n",
        "minggu = sisa_hari_bulan // 7\n",
        "hari = sisa_hari_bulan % 7\n",
        "\n",
        "print(f\"Detail Waktu:\")\n",
        "print(f\"Tahun: {tahun}\")\n",
        "print(f\"Bulan: {bulan}\")\n",
        "print(f\"Minggu: {minggu}\")\n",
        "print(f\"Hari: {hari}\")\n"
      ],
      "metadata": {
        "colab": {
          "base_uri": "https://localhost:8080/"
        },
        "id": "HBy_3KsEblmH",
        "outputId": "eb35218a-5113-4d4f-fa46-47daeadc2e8f"
      },
      "execution_count": 7,
      "outputs": [
        {
          "output_type": "stream",
          "name": "stdout",
          "text": [
            "Masukkan total jumlah hari: 365\n",
            "Detail Waktu:\n",
            "Tahun: 1\n",
            "Bulan: 0\n",
            "Minggu: 0\n",
            "Hari: 0\n"
          ]
        }
      ]
    },
    {
      "cell_type": "markdown",
      "source": [
        "**SOAL 4**\n",
        "Buatlah sebuah program untuk menampilkan sebuah kalimat yang jumlah karakternya dibawah\n",
        "50 karakter. Jika tidak memasukan inputan apa-apa, program akan menampilkan pesan untuk\n",
        "memasukan sebuah kalimat."
      ],
      "metadata": {
        "id": "fL44nZ4ScNYQ"
      }
    },
    {
      "cell_type": "code",
      "source": [
        "kalimat = input(\"Masukkan sebuah kalimat: \")\n",
        "\n",
        "if len(kalimat) == 0:\n",
        "    print(\"Silakan masukkan sebuah kalimat.\")\n",
        "elif len(kalimat) < 50:\n",
        "    print(f\"Jumlah kalimat ideal, Berikut ini adalah kalimatnya: {kalimat}\")\n",
        "else:\n",
        "    print(\"Jumlah kalimat tersebut tidak ideal\")\n"
      ],
      "metadata": {
        "colab": {
          "base_uri": "https://localhost:8080/"
        },
        "id": "VYrcExp8dBzr",
        "outputId": "4ccf3642-6af1-4fc6-b6af-31ff692058a2"
      },
      "execution_count": 11,
      "outputs": [
        {
          "output_type": "stream",
          "name": "stdout",
          "text": [
            "Masukkan sebuah kalimat: aku adalah manusia\n",
            "Jumlah kalimat ideal, Berikut ini adalah kalimatnya: aku adalah manusia\n"
          ]
        }
      ]
    }
  ]
}