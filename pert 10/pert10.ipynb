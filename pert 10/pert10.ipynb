{
 "cells": [
  {
   "cell_type": "markdown",
   "metadata": {},
   "source": [
    "Naufal Fakhry Pratama (PYTN-KS18-014)\n",
    "pertemuan 10"
   ]
  },
  {
   "cell_type": "code",
   "execution_count": 1,
   "metadata": {},
   "outputs": [],
   "source": [
    "import numpy as np\n",
    "import pandas as pd\n",
    "\n",
    "pd.set_option('display.max_columns', None)"
   ]
  },
  {
   "cell_type": "code",
   "execution_count": 2,
   "metadata": {},
   "outputs": [
    {
     "data": {
      "text/html": [
       "<div>\n",
       "<style scoped>\n",
       "    .dataframe tbody tr th:only-of-type {\n",
       "        vertical-align: middle;\n",
       "    }\n",
       "\n",
       "    .dataframe tbody tr th {\n",
       "        vertical-align: top;\n",
       "    }\n",
       "\n",
       "    .dataframe thead th {\n",
       "        text-align: right;\n",
       "    }\n",
       "</style>\n",
       "<table border=\"1\" class=\"dataframe\">\n",
       "  <thead>\n",
       "    <tr style=\"text-align: right;\">\n",
       "      <th></th>\n",
       "      <th>Suburb</th>\n",
       "      <th>Address</th>\n",
       "      <th>Rooms</th>\n",
       "      <th>Type</th>\n",
       "      <th>Price</th>\n",
       "      <th>Method</th>\n",
       "      <th>SellerG</th>\n",
       "      <th>Date</th>\n",
       "      <th>Distance</th>\n",
       "      <th>Postcode</th>\n",
       "      <th>...</th>\n",
       "      <th>Bathroom</th>\n",
       "      <th>Car</th>\n",
       "      <th>Landsize</th>\n",
       "      <th>BuildingArea</th>\n",
       "      <th>YearBuilt</th>\n",
       "      <th>CouncilArea</th>\n",
       "      <th>Lattitude</th>\n",
       "      <th>Longtitude</th>\n",
       "      <th>Regionname</th>\n",
       "      <th>Propertycount</th>\n",
       "    </tr>\n",
       "  </thead>\n",
       "  <tbody>\n",
       "    <tr>\n",
       "      <th>0</th>\n",
       "      <td>Abbotsford</td>\n",
       "      <td>85 Turner St</td>\n",
       "      <td>2</td>\n",
       "      <td>h</td>\n",
       "      <td>1480000.0</td>\n",
       "      <td>S</td>\n",
       "      <td>Biggin</td>\n",
       "      <td>3/12/2016</td>\n",
       "      <td>2.5</td>\n",
       "      <td>3067.0</td>\n",
       "      <td>...</td>\n",
       "      <td>1.0</td>\n",
       "      <td>1.0</td>\n",
       "      <td>202.0</td>\n",
       "      <td>NaN</td>\n",
       "      <td>NaN</td>\n",
       "      <td>Yarra</td>\n",
       "      <td>-37.7996</td>\n",
       "      <td>144.9984</td>\n",
       "      <td>Northern Metropolitan</td>\n",
       "      <td>4019.0</td>\n",
       "    </tr>\n",
       "    <tr>\n",
       "      <th>1</th>\n",
       "      <td>Abbotsford</td>\n",
       "      <td>25 Bloomburg St</td>\n",
       "      <td>2</td>\n",
       "      <td>h</td>\n",
       "      <td>1035000.0</td>\n",
       "      <td>S</td>\n",
       "      <td>Biggin</td>\n",
       "      <td>4/02/2016</td>\n",
       "      <td>2.5</td>\n",
       "      <td>3067.0</td>\n",
       "      <td>...</td>\n",
       "      <td>1.0</td>\n",
       "      <td>0.0</td>\n",
       "      <td>156.0</td>\n",
       "      <td>79.0</td>\n",
       "      <td>1900.0</td>\n",
       "      <td>Yarra</td>\n",
       "      <td>-37.8079</td>\n",
       "      <td>144.9934</td>\n",
       "      <td>Northern Metropolitan</td>\n",
       "      <td>4019.0</td>\n",
       "    </tr>\n",
       "    <tr>\n",
       "      <th>2</th>\n",
       "      <td>Abbotsford</td>\n",
       "      <td>5 Charles St</td>\n",
       "      <td>3</td>\n",
       "      <td>h</td>\n",
       "      <td>1465000.0</td>\n",
       "      <td>SP</td>\n",
       "      <td>Biggin</td>\n",
       "      <td>4/03/2017</td>\n",
       "      <td>2.5</td>\n",
       "      <td>3067.0</td>\n",
       "      <td>...</td>\n",
       "      <td>2.0</td>\n",
       "      <td>0.0</td>\n",
       "      <td>134.0</td>\n",
       "      <td>150.0</td>\n",
       "      <td>1900.0</td>\n",
       "      <td>Yarra</td>\n",
       "      <td>-37.8093</td>\n",
       "      <td>144.9944</td>\n",
       "      <td>Northern Metropolitan</td>\n",
       "      <td>4019.0</td>\n",
       "    </tr>\n",
       "    <tr>\n",
       "      <th>3</th>\n",
       "      <td>Abbotsford</td>\n",
       "      <td>40 Federation La</td>\n",
       "      <td>3</td>\n",
       "      <td>h</td>\n",
       "      <td>850000.0</td>\n",
       "      <td>PI</td>\n",
       "      <td>Biggin</td>\n",
       "      <td>4/03/2017</td>\n",
       "      <td>2.5</td>\n",
       "      <td>3067.0</td>\n",
       "      <td>...</td>\n",
       "      <td>2.0</td>\n",
       "      <td>1.0</td>\n",
       "      <td>94.0</td>\n",
       "      <td>NaN</td>\n",
       "      <td>NaN</td>\n",
       "      <td>Yarra</td>\n",
       "      <td>-37.7969</td>\n",
       "      <td>144.9969</td>\n",
       "      <td>Northern Metropolitan</td>\n",
       "      <td>4019.0</td>\n",
       "    </tr>\n",
       "    <tr>\n",
       "      <th>4</th>\n",
       "      <td>Abbotsford</td>\n",
       "      <td>55a Park St</td>\n",
       "      <td>4</td>\n",
       "      <td>h</td>\n",
       "      <td>1600000.0</td>\n",
       "      <td>VB</td>\n",
       "      <td>Nelson</td>\n",
       "      <td>4/06/2016</td>\n",
       "      <td>2.5</td>\n",
       "      <td>3067.0</td>\n",
       "      <td>...</td>\n",
       "      <td>1.0</td>\n",
       "      <td>2.0</td>\n",
       "      <td>120.0</td>\n",
       "      <td>142.0</td>\n",
       "      <td>2014.0</td>\n",
       "      <td>Yarra</td>\n",
       "      <td>-37.8072</td>\n",
       "      <td>144.9941</td>\n",
       "      <td>Northern Metropolitan</td>\n",
       "      <td>4019.0</td>\n",
       "    </tr>\n",
       "  </tbody>\n",
       "</table>\n",
       "<p>5 rows × 21 columns</p>\n",
       "</div>"
      ],
      "text/plain": [
       "       Suburb           Address  Rooms Type      Price Method SellerG  \\\n",
       "0  Abbotsford      85 Turner St      2    h  1480000.0      S  Biggin   \n",
       "1  Abbotsford   25 Bloomburg St      2    h  1035000.0      S  Biggin   \n",
       "2  Abbotsford      5 Charles St      3    h  1465000.0     SP  Biggin   \n",
       "3  Abbotsford  40 Federation La      3    h   850000.0     PI  Biggin   \n",
       "4  Abbotsford       55a Park St      4    h  1600000.0     VB  Nelson   \n",
       "\n",
       "        Date  Distance  Postcode  ...  Bathroom  Car  Landsize  BuildingArea  \\\n",
       "0  3/12/2016       2.5    3067.0  ...       1.0  1.0     202.0           NaN   \n",
       "1  4/02/2016       2.5    3067.0  ...       1.0  0.0     156.0          79.0   \n",
       "2  4/03/2017       2.5    3067.0  ...       2.0  0.0     134.0         150.0   \n",
       "3  4/03/2017       2.5    3067.0  ...       2.0  1.0      94.0           NaN   \n",
       "4  4/06/2016       2.5    3067.0  ...       1.0  2.0     120.0         142.0   \n",
       "\n",
       "   YearBuilt  CouncilArea Lattitude  Longtitude             Regionname  \\\n",
       "0        NaN        Yarra  -37.7996    144.9984  Northern Metropolitan   \n",
       "1     1900.0        Yarra  -37.8079    144.9934  Northern Metropolitan   \n",
       "2     1900.0        Yarra  -37.8093    144.9944  Northern Metropolitan   \n",
       "3        NaN        Yarra  -37.7969    144.9969  Northern Metropolitan   \n",
       "4     2014.0        Yarra  -37.8072    144.9941  Northern Metropolitan   \n",
       "\n",
       "  Propertycount  \n",
       "0        4019.0  \n",
       "1        4019.0  \n",
       "2        4019.0  \n",
       "3        4019.0  \n",
       "4        4019.0  \n",
       "\n",
       "[5 rows x 21 columns]"
      ]
     },
     "execution_count": 2,
     "metadata": {},
     "output_type": "execute_result"
    }
   ],
   "source": [
    "df = pd.read_csv('melb_data.csv')\n",
    "df.head()"
   ]
  },
  {
   "cell_type": "markdown",
   "metadata": {},
   "source": [
    "Nomor 1\n",
    "Tampilkan statistik deskriptif pada variabel Rooms, Distance, Landsize, dan Price"
   ]
  },
  {
   "cell_type": "code",
   "execution_count": 20,
   "metadata": {},
   "outputs": [
    {
     "data": {
      "text/html": [
       "<div>\n",
       "<style scoped>\n",
       "    .dataframe tbody tr th:only-of-type {\n",
       "        vertical-align: middle;\n",
       "    }\n",
       "\n",
       "    .dataframe tbody tr th {\n",
       "        vertical-align: top;\n",
       "    }\n",
       "\n",
       "    .dataframe thead th {\n",
       "        text-align: right;\n",
       "    }\n",
       "</style>\n",
       "<table border=\"1\" class=\"dataframe\">\n",
       "  <thead>\n",
       "    <tr style=\"text-align: right;\">\n",
       "      <th></th>\n",
       "      <th>Rooms</th>\n",
       "      <th>Distance</th>\n",
       "      <th>Landsize</th>\n",
       "      <th>Price</th>\n",
       "    </tr>\n",
       "  </thead>\n",
       "  <tbody>\n",
       "    <tr>\n",
       "      <th>count</th>\n",
       "      <td>13580.000000</td>\n",
       "      <td>13580.000000</td>\n",
       "      <td>13580.000000</td>\n",
       "      <td>1.358000e+04</td>\n",
       "    </tr>\n",
       "    <tr>\n",
       "      <th>mean</th>\n",
       "      <td>2.937997</td>\n",
       "      <td>10.137776</td>\n",
       "      <td>558.416127</td>\n",
       "      <td>1.075684e+06</td>\n",
       "    </tr>\n",
       "    <tr>\n",
       "      <th>std</th>\n",
       "      <td>0.955748</td>\n",
       "      <td>5.868725</td>\n",
       "      <td>3990.669241</td>\n",
       "      <td>6.393107e+05</td>\n",
       "    </tr>\n",
       "    <tr>\n",
       "      <th>min</th>\n",
       "      <td>1.000000</td>\n",
       "      <td>0.000000</td>\n",
       "      <td>0.000000</td>\n",
       "      <td>8.500000e+04</td>\n",
       "    </tr>\n",
       "    <tr>\n",
       "      <th>25%</th>\n",
       "      <td>2.000000</td>\n",
       "      <td>6.100000</td>\n",
       "      <td>177.000000</td>\n",
       "      <td>6.500000e+05</td>\n",
       "    </tr>\n",
       "    <tr>\n",
       "      <th>50%</th>\n",
       "      <td>3.000000</td>\n",
       "      <td>9.200000</td>\n",
       "      <td>440.000000</td>\n",
       "      <td>9.030000e+05</td>\n",
       "    </tr>\n",
       "    <tr>\n",
       "      <th>75%</th>\n",
       "      <td>3.000000</td>\n",
       "      <td>13.000000</td>\n",
       "      <td>651.000000</td>\n",
       "      <td>1.330000e+06</td>\n",
       "    </tr>\n",
       "    <tr>\n",
       "      <th>max</th>\n",
       "      <td>10.000000</td>\n",
       "      <td>48.100000</td>\n",
       "      <td>433014.000000</td>\n",
       "      <td>9.000000e+06</td>\n",
       "    </tr>\n",
       "  </tbody>\n",
       "</table>\n",
       "</div>"
      ],
      "text/plain": [
       "              Rooms      Distance       Landsize         Price\n",
       "count  13580.000000  13580.000000   13580.000000  1.358000e+04\n",
       "mean       2.937997     10.137776     558.416127  1.075684e+06\n",
       "std        0.955748      5.868725    3990.669241  6.393107e+05\n",
       "min        1.000000      0.000000       0.000000  8.500000e+04\n",
       "25%        2.000000      6.100000     177.000000  6.500000e+05\n",
       "50%        3.000000      9.200000     440.000000  9.030000e+05\n",
       "75%        3.000000     13.000000     651.000000  1.330000e+06\n",
       "max       10.000000     48.100000  433014.000000  9.000000e+06"
      ]
     },
     "execution_count": 20,
     "metadata": {},
     "output_type": "execute_result"
    }
   ],
   "source": [
    "df[['Rooms', 'Distance', 'Landsize', 'Price']].describe()\n",
    "\n"
   ]
  },
  {
   "cell_type": "markdown",
   "metadata": {},
   "source": [
    "Nomor 2\n",
    "a) Berapa jumlah Rooms pada rumah yang harganya paling mahal?\n",
    "b) Berapa rata-rata harga rumah yang jarak ke CBD (variabel Distance) \n",
    "terdekat?\n",
    "c) Berapa rata-rata harga rumah yang luas tanahnya (variabel Landsize) 1 \n",
    "kali standar deviasi di atas rata-rata luas tanah?\n",
    "d) Berapa rentang (range) harga rumah (variabel Price) pada region \n",
    "Southern Metropolitan?"
   ]
  },
  {
   "cell_type": "code",
   "execution_count": 11,
   "metadata": {},
   "outputs": [
    {
     "name": "stdout",
     "output_type": "stream",
     "text": [
      "Jumlah Rooms pada rumah yang harganya paling mahal ada: 3\n"
     ]
    }
   ],
   "source": [
    "#a\n",
    "\n",
    "rumah_paling_mahal = df[df['Price'] == df['Price'].max()]\n",
    "jumlah_rumah_paling_mahal = rumah_paling_mahal['Rooms'].values[0]\n",
    "\n",
    "print(\"Jumlah Rooms pada rumah yang harganya paling mahal ada:\", jumlah_rumah_paling_mahal )\n"
   ]
  },
  {
   "cell_type": "code",
   "execution_count": 12,
   "metadata": {},
   "outputs": [
    {
     "name": "stdout",
     "output_type": "stream",
     "text": [
      "Rata-rata harga rumah yang jaraknya terdekat ke CBD: 671166.6666666666\n"
     ]
    }
   ],
   "source": [
    "#b\n",
    "\n",
    "# Menemukan jarak terdekat ke CBD\n",
    "jarak_terdekat = df['Distance'].min()\n",
    "\n",
    "# Menghitung rata-rata harga rumah dengan jarak terdekat\n",
    "rata_rata_harga_jarak_terdekat = df[df['Distance'] == jarak_terdekat]['Price'].mean()\n",
    "\n",
    "print(\"Rata-rata harga rumah yang jaraknya terdekat ke CBD:\", rata_rata_harga_jarak_terdekat)\n"
   ]
  },
  {
   "cell_type": "code",
   "execution_count": 13,
   "metadata": {},
   "outputs": [
    {
     "name": "stdout",
     "output_type": "stream",
     "text": [
      "Rata-rata harga rumah yang luas tanahnya di atas 1 kali standar deviasi di atas rata-rata luas tanah: 880776.6666666666\n"
     ]
    }
   ],
   "source": [
    "#C\n",
    "# Menghitung rata-rata luas tanah\n",
    "rata_rata_landsize = df['Landsize'].mean()\n",
    "\n",
    "# Menghitung standar deviasi luas tanah\n",
    "standar_deviasi_landsize = df['Landsize'].std()\n",
    "\n",
    "# Menghitung batas atas yaitu rata-rata ditambah satu kali standar deviasi\n",
    "batas_atas = rata_rata_landsize + standar_deviasi_landsize\n",
    "\n",
    "# Menghitung rata-rata harga rumah yang luas tanahnya di atas batas atas\n",
    "rata_rata_harga_luas_tanah_di_atas_batas = df[df['Landsize'] > batas_atas]['Price'].mean()\n",
    "\n",
    "print(\"Rata-rata harga rumah yang luas tanahnya di atas 1 kali standar deviasi di atas rata-rata luas tanah:\", rata_rata_harga_luas_tanah_di_atas_batas)\n"
   ]
  },
  {
   "cell_type": "code",
   "execution_count": 14,
   "metadata": {},
   "outputs": [
    {
     "name": "stdout",
     "output_type": "stream",
     "text": [
      "Rentang harga rumah pada region Southern Metropolitan: 7869000.0\n"
     ]
    }
   ],
   "source": [
    "#D\n",
    "\n",
    "# Membuat filter untuk region Southern Metropolitan\n",
    "filter_southern_metropolitan = df['Regionname'] == 'Southern Metropolitan'\n",
    "\n",
    "# Menghitung rentang harga rumah pada region Southern Metropolitan\n",
    "rentang_harga_southern_metropolitan = df[filter_southern_metropolitan]['Price'].max() - df[filter_southern_metropolitan]['Price'].min()\n",
    "\n",
    "print(\"Rentang harga rumah pada region Southern Metropolitan:\", rentang_harga_southern_metropolitan)\n"
   ]
  },
  {
   "cell_type": "markdown",
   "metadata": {},
   "source": [
    "NOMOR 3\n",
    "\n",
    "Nilai outlier adalah nilai yang berada di bawah Q1 - (1.5 * IQR) \n",
    "atau di atas Q3 + (1.5 * IQR).\n",
    "a) Hitung dulu Q1, Q2, dan IQR pada kolom Price (harga rumah)\n",
    "b) Hitung ada berapa nilai outlier pada kolom Price!"
   ]
  },
  {
   "cell_type": "code",
   "execution_count": 15,
   "metadata": {},
   "outputs": [
    {
     "name": "stdout",
     "output_type": "stream",
     "text": [
      "Q1 (Kuartil 1): 650000.0\n",
      "Q3 (Kuartil 3): 1330000.0\n",
      "IQR (Interquartile Range): 680000.0\n"
     ]
    }
   ],
   "source": [
    "#a\n",
    "\n",
    "# Menghitung Q1 (Kuartil 1)\n",
    "Q1 = df['Price'].quantile(0.25)\n",
    "\n",
    "# Menghitung Q3 (Kuartil 3)\n",
    "Q3 = df['Price'].quantile(0.75)\n",
    "\n",
    "# Menghitung IQR (Interquartile Range)\n",
    "IQR = Q3 - Q1\n",
    "\n",
    "print(\"Q1 (Kuartil 1):\", Q1)\n",
    "print(\"Q3 (Kuartil 3):\", Q3)\n",
    "print(\"IQR (Interquartile Range):\", IQR)"
   ]
  },
  {
   "cell_type": "code",
   "execution_count": 16,
   "metadata": {},
   "outputs": [
    {
     "name": "stdout",
     "output_type": "stream",
     "text": [
      "Jumlah nilai outlier pada kolom Price: 612\n"
     ]
    }
   ],
   "source": [
    "#b\n",
    "# Menghitung batas bawah untuk outlier\n",
    "batas_bawah_outlier = Q1 - 1.5 * IQR\n",
    "\n",
    "# Menghitung batas atas untuk outlier\n",
    "batas_atas_outlier = Q3 + 1.5 * IQR\n",
    "\n",
    "# Mengidentifikasi nilai outlier\n",
    "outliers = df[(df['Price'] < batas_bawah_outlier) | (df['Price'] > batas_atas_outlier)]\n",
    "\n",
    "# Menghitung jumlah nilai outlier\n",
    "jumlah_outlier = len(outliers)\n",
    "\n",
    "print(\"Jumlah nilai outlier pada kolom Price:\", jumlah_outlier)\n"
   ]
  },
  {
   "cell_type": "markdown",
   "metadata": {},
   "source": [
    "NOMOR 4\n",
    "Lakukan uji asumsi normalitas pada variabel harga rumah (Price) \n",
    "menggunakan:\n",
    "a) Shapiro Wilk Test\n",
    "b) D’Agostino and Pearson’s Test"
   ]
  },
  {
   "cell_type": "code",
   "execution_count": 18,
   "metadata": {},
   "outputs": [
    {
     "name": "stdout",
     "output_type": "stream",
     "text": [
      "Shapiro-Wilk Test:\n",
      "Statistik Uji: 0.8328601717948914\n",
      "P-Value: 0.0\n",
      "Asumsi normalitas ditolak (distribusi Price bukan normal)\n"
     ]
    },
    {
     "name": "stderr",
     "output_type": "stream",
     "text": [
      "c:\\Users\\fakhr\\anaconda3\\Lib\\site-packages\\scipy\\stats\\_morestats.py:1816: UserWarning: p-value may not be accurate for N > 5000.\n",
      "  warnings.warn(\"p-value may not be accurate for N > 5000.\")\n"
     ]
    }
   ],
   "source": [
    "#a) Shapiro Wilk Test\n",
    "\n",
    "from scipy.stats import shapiro\n",
    "\n",
    "\n",
    "# Mengambil variabel Price\n",
    "price = df['Price']\n",
    "\n",
    "# Melakukan uji Shapiro-Wilk\n",
    "stat, p = shapiro(price)\n",
    "\n",
    "# Menampilkan hasil uji\n",
    "print(\"Shapiro-Wilk Test:\")\n",
    "print(\"Statistik Uji:\", stat)\n",
    "print(\"P-Value:\", p)\n",
    "\n",
    "# Menentukan apakah variabel Price berdistribusi normal atau tidak berdasarkan nilai p\n",
    "alpha = 0.05\n",
    "if p > alpha:\n",
    "    print(\"Tidak ada cukup bukti untuk menolak asumsi normalitas (distribusi Price adalah normal)\")\n",
    "else:\n",
    "    print(\"Asumsi normalitas ditolak (distribusi Price bukan normal)\")\n"
   ]
  },
  {
   "cell_type": "code",
   "execution_count": 19,
   "metadata": {},
   "outputs": [
    {
     "name": "stdout",
     "output_type": "stream",
     "text": [
      "D'Agostino and Pearson's Test:\n",
      "Statistik Uji: 6894.345896172315\n",
      "P-Value: 0.0\n",
      "Asumsi normalitas ditolak (distribusi Price bukan normal)\n"
     ]
    }
   ],
   "source": [
    "#b) D’Agostino and Pearson’s Test\n",
    "\n",
    "import pandas as pd\n",
    "from scipy.stats import normaltest\n",
    "\n",
    "\n",
    "# Mengambil variabel Price\n",
    "price = df['Price']\n",
    "\n",
    "# Melakukan uji D'Agostino and Pearson's\n",
    "stat, p = normaltest(price)\n",
    "\n",
    "# Menampilkan hasil uji\n",
    "print(\"D'Agostino and Pearson's Test:\")\n",
    "print(\"Statistik Uji:\", stat)\n",
    "print(\"P-Value:\", p)\n",
    "\n",
    "# Menentukan apakah variabel Price berdistribusi normal atau tidak berdasarkan nilai p\n",
    "alpha = 0.05\n",
    "if p > alpha:\n",
    "    print(\"Tidak ada cukup bukti untuk menolak asumsi normalitas (distribusi Price adalah normal)\")\n",
    "else:\n",
    "    print(\"Asumsi normalitas ditolak (distribusi Price bukan normal)\")\n"
   ]
  },
  {
   "cell_type": "markdown",
   "metadata": {},
   "source": [
    "Nomor 9\n",
    "\n",
    "Uji hipotesis apakah metode pembelian/Method berkaitan \n",
    "dengan tipe rumah/ Type (dependen) atau tidak saling berkaitan \n",
    "(independen)!\n",
    "Hypothesis:\n",
    "• Ho : The two variables are independent\n",
    "• Ha : The two variables are dependent.\n",
    "\n"
   ]
  },
  {
   "cell_type": "code",
   "execution_count": 21,
   "metadata": {},
   "outputs": [
    {
     "name": "stdout",
     "output_type": "stream",
     "text": [
      "Statistik Chi-Square: 120.08519425521135\n",
      "P-Value: 3.183702485154338e-22\n",
      "Menolak hipotesis nol (Ho): Method dan Type berkaitan (dependent)\n"
     ]
    }
   ],
   "source": [
    "\n",
    "from scipy.stats import chi2_contingency\n",
    "\n",
    "\n",
    "\n",
    "# Bentuk tabel kontingensi antara Method dan Type\n",
    "contingency_table = pd.crosstab(df['Method'], df['Type'])\n",
    "\n",
    "# Melakukan uji chi-square untuk independensi\n",
    "chi2, p, dof, expected = chi2_contingency(contingency_table)\n",
    "\n",
    "# Menampilkan hasil uji\n",
    "print(\"Statistik Chi-Square:\", chi2)\n",
    "print(\"P-Value:\", p)\n",
    "\n",
    "# Tentukan tingkat signifikansi (alpha)\n",
    "alpha = 0.05\n",
    "\n",
    "# Ambil keputusan\n",
    "if p < alpha:\n",
    "    print(\"Menolak hipotesis nol (Ho): Method dan Type berkaitan (dependent)\")\n",
    "else:\n",
    "    print(\"Tidak cukup bukti untuk menolak hipotesis nol (Ho): Method dan Type tidak berkaitan (independent)\")\n"
   ]
  },
  {
   "cell_type": "markdown",
   "metadata": {},
   "source": [
    "Nomor 10\n",
    "\n",
    "Uji hipotesis apakah rata-rata harga rumah (Price) antar \n",
    "Regionname berbeda ataukah sama! Diasumsikan persyaratan \n",
    "statistik parametrik terpenuhi\n",
    "Hipotesis:\n",
    "• Ho : μ1 = μ2 = … = μk (Rata-rata harga rumah antar Regionname\n",
    "sama)\n",
    "• Ha : Setidaknya ada satu pasang Regionname yang rata-rata \n",
    "harga rumahnya tidak sama, tapi kita tidak tahu yang mana"
   ]
  },
  {
   "cell_type": "code",
   "execution_count": 23,
   "metadata": {},
   "outputs": [
    {
     "name": "stdout",
     "output_type": "stream",
     "text": [
      "Statistik ANOVA: 284.40018651008097\n",
      "P-Value: 0.0\n",
      "Menolak hipotesis nol (Ho): Setidaknya ada satu pasang Regionname yang rata-rata harga rumahnya tidak sama.\n"
     ]
    }
   ],
   "source": [
    "from scipy.stats import f_oneway\n",
    "\n",
    "\n",
    "# Pisahkan data menjadi kelompok-kelompok berdasarkan Regionname\n",
    "groups = [group['Price'] for name, group in df.groupby('Regionname')]\n",
    "\n",
    "# Lakukan uji ANOVA\n",
    "stat, p = f_oneway(*groups)\n",
    "\n",
    "# Menampilkan hasil uji\n",
    "print(\"Statistik ANOVA:\", stat)\n",
    "print(\"P-Value:\", p)\n",
    "\n",
    "alpha = 0.05\n",
    "\n",
    "# Ambil keputusan\n",
    "if p < alpha:\n",
    "    print(\"Menolak hipotesis nol (Ho): Setidaknya ada satu pasang Regionname yang rata-rata harga rumahnya tidak sama.\")\n",
    "else:\n",
    "    print(\"Tidak cukup bukti untuk menolak hipotesis nol (Ho): Rata-rata harga rumah antar Regionname sama.\")"
   ]
  }
 ],
 "metadata": {
  "kernelspec": {
   "display_name": "base",
   "language": "python",
   "name": "python3"
  },
  "language_info": {
   "codemirror_mode": {
    "name": "ipython",
    "version": 3
   },
   "file_extension": ".py",
   "mimetype": "text/x-python",
   "name": "python",
   "nbconvert_exporter": "python",
   "pygments_lexer": "ipython3",
   "version": "3.11.4"
  },
  "orig_nbformat": 4
 },
 "nbformat": 4,
 "nbformat_minor": 2
}
