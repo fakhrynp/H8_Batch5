{
 "cells": [
  {
   "cell_type": "markdown",
   "metadata": {},
   "source": [
    "NAUFAL FAKHRY PRATAMA (PYTN-KS18-014)\n",
    "PERTEMUAN 9"
   ]
  },
  {
   "cell_type": "code",
   "execution_count": 1,
   "metadata": {},
   "outputs": [],
   "source": [
    "# Import numpy with alias np, matplotlib.pyplot as plt, and pandas alias pd \n",
    "\n",
    "import numpy as np\n",
    "import pandas as pd\n",
    "import matplotlib.pyplot as plt\n",
    "import seaborn as sns"
   ]
  },
  {
   "cell_type": "code",
   "execution_count": 2,
   "metadata": {},
   "outputs": [],
   "source": [
    "# Load dataset\n",
    "food_consumption = pd.read_csv('02. food_consumption.csv')"
   ]
  },
  {
   "cell_type": "code",
   "execution_count": 3,
   "metadata": {},
   "outputs": [
    {
     "data": {
      "text/html": [
       "<div>\n",
       "<style scoped>\n",
       "    .dataframe tbody tr th:only-of-type {\n",
       "        vertical-align: middle;\n",
       "    }\n",
       "\n",
       "    .dataframe tbody tr th {\n",
       "        vertical-align: top;\n",
       "    }\n",
       "\n",
       "    .dataframe thead th {\n",
       "        text-align: right;\n",
       "    }\n",
       "</style>\n",
       "<table border=\"1\" class=\"dataframe\">\n",
       "  <thead>\n",
       "    <tr style=\"text-align: right;\">\n",
       "      <th></th>\n",
       "      <th>Unnamed: 0</th>\n",
       "      <th>country</th>\n",
       "      <th>food_category</th>\n",
       "      <th>consumption</th>\n",
       "      <th>co2_emission</th>\n",
       "    </tr>\n",
       "  </thead>\n",
       "  <tbody>\n",
       "    <tr>\n",
       "      <th>0</th>\n",
       "      <td>1</td>\n",
       "      <td>Argentina</td>\n",
       "      <td>pork</td>\n",
       "      <td>10.51</td>\n",
       "      <td>37.20</td>\n",
       "    </tr>\n",
       "    <tr>\n",
       "      <th>1</th>\n",
       "      <td>2</td>\n",
       "      <td>Argentina</td>\n",
       "      <td>poultry</td>\n",
       "      <td>38.66</td>\n",
       "      <td>41.53</td>\n",
       "    </tr>\n",
       "    <tr>\n",
       "      <th>2</th>\n",
       "      <td>3</td>\n",
       "      <td>Argentina</td>\n",
       "      <td>beef</td>\n",
       "      <td>55.48</td>\n",
       "      <td>1712.00</td>\n",
       "    </tr>\n",
       "    <tr>\n",
       "      <th>3</th>\n",
       "      <td>4</td>\n",
       "      <td>Argentina</td>\n",
       "      <td>lamb_goat</td>\n",
       "      <td>1.56</td>\n",
       "      <td>54.63</td>\n",
       "    </tr>\n",
       "    <tr>\n",
       "      <th>4</th>\n",
       "      <td>5</td>\n",
       "      <td>Argentina</td>\n",
       "      <td>fish</td>\n",
       "      <td>4.36</td>\n",
       "      <td>6.96</td>\n",
       "    </tr>\n",
       "  </tbody>\n",
       "</table>\n",
       "</div>"
      ],
      "text/plain": [
       "   Unnamed: 0    country food_category  consumption  co2_emission\n",
       "0           1  Argentina          pork        10.51         37.20\n",
       "1           2  Argentina       poultry        38.66         41.53\n",
       "2           3  Argentina          beef        55.48       1712.00\n",
       "3           4  Argentina     lamb_goat         1.56         54.63\n",
       "4           5  Argentina          fish         4.36          6.96"
      ]
     },
     "execution_count": 3,
     "metadata": {},
     "output_type": "execute_result"
    }
   ],
   "source": [
    "# Print head of dataset\n",
    "food_consumption.head()"
   ]
  },
  {
   "cell_type": "code",
   "execution_count": 5,
   "metadata": {},
   "outputs": [],
   "source": [
    "# Create two DataFrames:     usa_consumption.\n",
    "\n",
    "# Filter for Belgium\n",
    "be_consumption = food_consumption[food_consumption['country'] == 'Belgium']\n",
    "\n",
    "# Filter for USA\n",
    "usa_consumption = food_consumption[food_consumption['country'] == 'USA']"
   ]
  },
  {
   "cell_type": "code",
   "execution_count": 44,
   "metadata": {},
   "outputs": [
    {
     "data": {
      "text/html": [
       "<div>\n",
       "<style scoped>\n",
       "    .dataframe tbody tr th:only-of-type {\n",
       "        vertical-align: middle;\n",
       "    }\n",
       "\n",
       "    .dataframe tbody tr th {\n",
       "        vertical-align: top;\n",
       "    }\n",
       "\n",
       "    .dataframe thead th {\n",
       "        text-align: right;\n",
       "    }\n",
       "</style>\n",
       "<table border=\"1\" class=\"dataframe\">\n",
       "  <thead>\n",
       "    <tr style=\"text-align: right;\">\n",
       "      <th></th>\n",
       "      <th>Unnamed: 0</th>\n",
       "      <th>country</th>\n",
       "      <th>food_category</th>\n",
       "      <th>consumption</th>\n",
       "      <th>co2_emission</th>\n",
       "    </tr>\n",
       "  </thead>\n",
       "  <tbody>\n",
       "    <tr>\n",
       "      <th>396</th>\n",
       "      <td>397</td>\n",
       "      <td>Belgium</td>\n",
       "      <td>pork</td>\n",
       "      <td>38.65</td>\n",
       "      <td>136.80</td>\n",
       "    </tr>\n",
       "    <tr>\n",
       "      <th>397</th>\n",
       "      <td>398</td>\n",
       "      <td>Belgium</td>\n",
       "      <td>poultry</td>\n",
       "      <td>12.20</td>\n",
       "      <td>13.11</td>\n",
       "    </tr>\n",
       "    <tr>\n",
       "      <th>398</th>\n",
       "      <td>399</td>\n",
       "      <td>Belgium</td>\n",
       "      <td>beef</td>\n",
       "      <td>15.63</td>\n",
       "      <td>482.31</td>\n",
       "    </tr>\n",
       "    <tr>\n",
       "      <th>399</th>\n",
       "      <td>400</td>\n",
       "      <td>Belgium</td>\n",
       "      <td>lamb_goat</td>\n",
       "      <td>1.32</td>\n",
       "      <td>46.23</td>\n",
       "    </tr>\n",
       "    <tr>\n",
       "      <th>400</th>\n",
       "      <td>401</td>\n",
       "      <td>Belgium</td>\n",
       "      <td>fish</td>\n",
       "      <td>18.97</td>\n",
       "      <td>30.29</td>\n",
       "    </tr>\n",
       "  </tbody>\n",
       "</table>\n",
       "</div>"
      ],
      "text/plain": [
       "     Unnamed: 0  country food_category  consumption  co2_emission\n",
       "396         397  Belgium          pork        38.65        136.80\n",
       "397         398  Belgium       poultry        12.20         13.11\n",
       "398         399  Belgium          beef        15.63        482.31\n",
       "399         400  Belgium     lamb_goat         1.32         46.23\n",
       "400         401  Belgium          fish        18.97         30.29"
      ]
     },
     "execution_count": 44,
     "metadata": {},
     "output_type": "execute_result"
    }
   ],
   "source": [
    "be_consumption.head()"
   ]
  },
  {
   "cell_type": "code",
   "execution_count": 45,
   "metadata": {},
   "outputs": [
    {
     "data": {
      "text/html": [
       "<div>\n",
       "<style scoped>\n",
       "    .dataframe tbody tr th:only-of-type {\n",
       "        vertical-align: middle;\n",
       "    }\n",
       "\n",
       "    .dataframe tbody tr th {\n",
       "        vertical-align: top;\n",
       "    }\n",
       "\n",
       "    .dataframe thead th {\n",
       "        text-align: right;\n",
       "    }\n",
       "</style>\n",
       "<table border=\"1\" class=\"dataframe\">\n",
       "  <thead>\n",
       "    <tr style=\"text-align: right;\">\n",
       "      <th></th>\n",
       "      <th>Unnamed: 0</th>\n",
       "      <th>country</th>\n",
       "      <th>food_category</th>\n",
       "      <th>consumption</th>\n",
       "      <th>co2_emission</th>\n",
       "    </tr>\n",
       "  </thead>\n",
       "  <tbody>\n",
       "    <tr>\n",
       "      <th>55</th>\n",
       "      <td>56</td>\n",
       "      <td>USA</td>\n",
       "      <td>pork</td>\n",
       "      <td>27.64</td>\n",
       "      <td>97.83</td>\n",
       "    </tr>\n",
       "    <tr>\n",
       "      <th>56</th>\n",
       "      <td>57</td>\n",
       "      <td>USA</td>\n",
       "      <td>poultry</td>\n",
       "      <td>50.01</td>\n",
       "      <td>53.72</td>\n",
       "    </tr>\n",
       "    <tr>\n",
       "      <th>57</th>\n",
       "      <td>58</td>\n",
       "      <td>USA</td>\n",
       "      <td>beef</td>\n",
       "      <td>36.24</td>\n",
       "      <td>1118.29</td>\n",
       "    </tr>\n",
       "    <tr>\n",
       "      <th>58</th>\n",
       "      <td>59</td>\n",
       "      <td>USA</td>\n",
       "      <td>lamb_goat</td>\n",
       "      <td>0.43</td>\n",
       "      <td>15.06</td>\n",
       "    </tr>\n",
       "    <tr>\n",
       "      <th>59</th>\n",
       "      <td>60</td>\n",
       "      <td>USA</td>\n",
       "      <td>fish</td>\n",
       "      <td>12.35</td>\n",
       "      <td>19.72</td>\n",
       "    </tr>\n",
       "  </tbody>\n",
       "</table>\n",
       "</div>"
      ],
      "text/plain": [
       "    Unnamed: 0 country food_category  consumption  co2_emission\n",
       "55          56     USA          pork        27.64         97.83\n",
       "56          57     USA       poultry        50.01         53.72\n",
       "57          58     USA          beef        36.24       1118.29\n",
       "58          59     USA     lamb_goat         0.43         15.06\n",
       "59          60     USA          fish        12.35         19.72"
      ]
     },
     "execution_count": 45,
     "metadata": {},
     "output_type": "execute_result"
    }
   ],
   "source": [
    "usa_consumption.head()"
   ]
  },
  {
   "cell_type": "code",
   "execution_count": 9,
   "metadata": {},
   "outputs": [
    {
     "name": "stdout",
     "output_type": "stream",
     "text": [
      "42.13272727272727\n",
      "12.59\n"
     ]
    }
   ],
   "source": [
    "# Calculate mean and median consumption in Belgium\n",
    "print (be_consumption['consumption'].mean())\n",
    "\n",
    "print (be_consumption['consumption'].median())"
   ]
  },
  {
   "cell_type": "code",
   "execution_count": 10,
   "metadata": {},
   "outputs": [
    {
     "name": "stdout",
     "output_type": "stream",
     "text": [
      "44.650000000000006\n",
      "14.58\n"
     ]
    }
   ],
   "source": [
    "# Calculate mean and median consumption in USA\n",
    "print(usa_consumption['consumption'].mean())\n",
    "print(usa_consumption['consumption'].median())"
   ]
  },
  {
   "cell_type": "code",
   "execution_count": 12,
   "metadata": {},
   "outputs": [],
   "source": [
    "# Subset for Belgium and USA only\n",
    "be_and_usa = food_consumption[(food_consumption['country'] == 'Belgium') | (food_consumption['country'] == 'USA')]"
   ]
  },
  {
   "cell_type": "code",
   "execution_count": 49,
   "metadata": {},
   "outputs": [
    {
     "data": {
      "text/html": [
       "<div>\n",
       "<style scoped>\n",
       "    .dataframe tbody tr th:only-of-type {\n",
       "        vertical-align: middle;\n",
       "    }\n",
       "\n",
       "    .dataframe tbody tr th {\n",
       "        vertical-align: top;\n",
       "    }\n",
       "\n",
       "    .dataframe thead th {\n",
       "        text-align: right;\n",
       "    }\n",
       "</style>\n",
       "<table border=\"1\" class=\"dataframe\">\n",
       "  <thead>\n",
       "    <tr style=\"text-align: right;\">\n",
       "      <th></th>\n",
       "      <th>Unnamed: 0</th>\n",
       "      <th>country</th>\n",
       "      <th>food_category</th>\n",
       "      <th>consumption</th>\n",
       "      <th>co2_emission</th>\n",
       "    </tr>\n",
       "  </thead>\n",
       "  <tbody>\n",
       "    <tr>\n",
       "      <th>55</th>\n",
       "      <td>56</td>\n",
       "      <td>USA</td>\n",
       "      <td>pork</td>\n",
       "      <td>27.64</td>\n",
       "      <td>97.83</td>\n",
       "    </tr>\n",
       "    <tr>\n",
       "      <th>56</th>\n",
       "      <td>57</td>\n",
       "      <td>USA</td>\n",
       "      <td>poultry</td>\n",
       "      <td>50.01</td>\n",
       "      <td>53.72</td>\n",
       "    </tr>\n",
       "    <tr>\n",
       "      <th>57</th>\n",
       "      <td>58</td>\n",
       "      <td>USA</td>\n",
       "      <td>beef</td>\n",
       "      <td>36.24</td>\n",
       "      <td>1118.29</td>\n",
       "    </tr>\n",
       "    <tr>\n",
       "      <th>58</th>\n",
       "      <td>59</td>\n",
       "      <td>USA</td>\n",
       "      <td>lamb_goat</td>\n",
       "      <td>0.43</td>\n",
       "      <td>15.06</td>\n",
       "    </tr>\n",
       "    <tr>\n",
       "      <th>59</th>\n",
       "      <td>60</td>\n",
       "      <td>USA</td>\n",
       "      <td>fish</td>\n",
       "      <td>12.35</td>\n",
       "      <td>19.72</td>\n",
       "    </tr>\n",
       "    <tr>\n",
       "      <th>60</th>\n",
       "      <td>61</td>\n",
       "      <td>USA</td>\n",
       "      <td>eggs</td>\n",
       "      <td>14.58</td>\n",
       "      <td>13.39</td>\n",
       "    </tr>\n",
       "    <tr>\n",
       "      <th>61</th>\n",
       "      <td>62</td>\n",
       "      <td>USA</td>\n",
       "      <td>dairy</td>\n",
       "      <td>254.69</td>\n",
       "      <td>362.78</td>\n",
       "    </tr>\n",
       "    <tr>\n",
       "      <th>62</th>\n",
       "      <td>63</td>\n",
       "      <td>USA</td>\n",
       "      <td>wheat</td>\n",
       "      <td>80.43</td>\n",
       "      <td>15.34</td>\n",
       "    </tr>\n",
       "    <tr>\n",
       "      <th>63</th>\n",
       "      <td>64</td>\n",
       "      <td>USA</td>\n",
       "      <td>rice</td>\n",
       "      <td>6.88</td>\n",
       "      <td>8.80</td>\n",
       "    </tr>\n",
       "    <tr>\n",
       "      <th>64</th>\n",
       "      <td>65</td>\n",
       "      <td>USA</td>\n",
       "      <td>soybeans</td>\n",
       "      <td>0.04</td>\n",
       "      <td>0.02</td>\n",
       "    </tr>\n",
       "    <tr>\n",
       "      <th>65</th>\n",
       "      <td>66</td>\n",
       "      <td>USA</td>\n",
       "      <td>nuts</td>\n",
       "      <td>7.86</td>\n",
       "      <td>13.91</td>\n",
       "    </tr>\n",
       "    <tr>\n",
       "      <th>396</th>\n",
       "      <td>397</td>\n",
       "      <td>Belgium</td>\n",
       "      <td>pork</td>\n",
       "      <td>38.65</td>\n",
       "      <td>136.80</td>\n",
       "    </tr>\n",
       "    <tr>\n",
       "      <th>397</th>\n",
       "      <td>398</td>\n",
       "      <td>Belgium</td>\n",
       "      <td>poultry</td>\n",
       "      <td>12.20</td>\n",
       "      <td>13.11</td>\n",
       "    </tr>\n",
       "    <tr>\n",
       "      <th>398</th>\n",
       "      <td>399</td>\n",
       "      <td>Belgium</td>\n",
       "      <td>beef</td>\n",
       "      <td>15.63</td>\n",
       "      <td>482.31</td>\n",
       "    </tr>\n",
       "    <tr>\n",
       "      <th>399</th>\n",
       "      <td>400</td>\n",
       "      <td>Belgium</td>\n",
       "      <td>lamb_goat</td>\n",
       "      <td>1.32</td>\n",
       "      <td>46.23</td>\n",
       "    </tr>\n",
       "    <tr>\n",
       "      <th>400</th>\n",
       "      <td>401</td>\n",
       "      <td>Belgium</td>\n",
       "      <td>fish</td>\n",
       "      <td>18.97</td>\n",
       "      <td>30.29</td>\n",
       "    </tr>\n",
       "    <tr>\n",
       "      <th>401</th>\n",
       "      <td>402</td>\n",
       "      <td>Belgium</td>\n",
       "      <td>eggs</td>\n",
       "      <td>12.59</td>\n",
       "      <td>11.57</td>\n",
       "    </tr>\n",
       "    <tr>\n",
       "      <th>402</th>\n",
       "      <td>403</td>\n",
       "      <td>Belgium</td>\n",
       "      <td>dairy</td>\n",
       "      <td>236.19</td>\n",
       "      <td>336.43</td>\n",
       "    </tr>\n",
       "    <tr>\n",
       "      <th>403</th>\n",
       "      <td>404</td>\n",
       "      <td>Belgium</td>\n",
       "      <td>wheat</td>\n",
       "      <td>111.91</td>\n",
       "      <td>21.34</td>\n",
       "    </tr>\n",
       "    <tr>\n",
       "      <th>404</th>\n",
       "      <td>405</td>\n",
       "      <td>Belgium</td>\n",
       "      <td>rice</td>\n",
       "      <td>8.61</td>\n",
       "      <td>11.02</td>\n",
       "    </tr>\n",
       "    <tr>\n",
       "      <th>405</th>\n",
       "      <td>406</td>\n",
       "      <td>Belgium</td>\n",
       "      <td>soybeans</td>\n",
       "      <td>0.07</td>\n",
       "      <td>0.03</td>\n",
       "    </tr>\n",
       "    <tr>\n",
       "      <th>406</th>\n",
       "      <td>407</td>\n",
       "      <td>Belgium</td>\n",
       "      <td>nuts</td>\n",
       "      <td>7.32</td>\n",
       "      <td>12.96</td>\n",
       "    </tr>\n",
       "  </tbody>\n",
       "</table>\n",
       "</div>"
      ],
      "text/plain": [
       "     Unnamed: 0  country food_category  consumption  co2_emission\n",
       "55           56      USA          pork        27.64         97.83\n",
       "56           57      USA       poultry        50.01         53.72\n",
       "57           58      USA          beef        36.24       1118.29\n",
       "58           59      USA     lamb_goat         0.43         15.06\n",
       "59           60      USA          fish        12.35         19.72\n",
       "60           61      USA          eggs        14.58         13.39\n",
       "61           62      USA         dairy       254.69        362.78\n",
       "62           63      USA         wheat        80.43         15.34\n",
       "63           64      USA          rice         6.88          8.80\n",
       "64           65      USA      soybeans         0.04          0.02\n",
       "65           66      USA          nuts         7.86         13.91\n",
       "396         397  Belgium          pork        38.65        136.80\n",
       "397         398  Belgium       poultry        12.20         13.11\n",
       "398         399  Belgium          beef        15.63        482.31\n",
       "399         400  Belgium     lamb_goat         1.32         46.23\n",
       "400         401  Belgium          fish        18.97         30.29\n",
       "401         402  Belgium          eggs        12.59         11.57\n",
       "402         403  Belgium         dairy       236.19        336.43\n",
       "403         404  Belgium         wheat       111.91         21.34\n",
       "404         405  Belgium          rice         8.61         11.02\n",
       "405         406  Belgium      soybeans         0.07          0.03\n",
       "406         407  Belgium          nuts         7.32         12.96"
      ]
     },
     "execution_count": 49,
     "metadata": {},
     "output_type": "execute_result"
    }
   ],
   "source": [
    "be_and_usa"
   ]
  },
  {
   "cell_type": "code",
   "execution_count": 13,
   "metadata": {},
   "outputs": [
    {
     "name": "stdout",
     "output_type": "stream",
     "text": [
      "              mean  median\n",
      "country                   \n",
      "Belgium  42.132727   12.59\n",
      "USA      44.650000   14.58\n"
     ]
    }
   ],
   "source": [
    "# Group the subsetted data by country and select only the consumption column. Calculate the mean and median of the kilograms of food consumed per person per year in each country using .agg()\n",
    "\n",
    "# Group by country, select consumption column, and compute mean and median\n",
    "BE_USA = be_and_usa.groupby('country')['consumption'].agg(['mean', 'median'])\n",
    "print(BE_USA)"
   ]
  },
  {
   "cell_type": "code",
   "execution_count": null,
   "metadata": {},
   "outputs": [],
   "source": [
    "# Import matplotlib.pyplot with alias plt\n",
    "## sudah dibagian atas"
   ]
  },
  {
   "cell_type": "code",
   "execution_count": 14,
   "metadata": {},
   "outputs": [],
   "source": [
    "# Subset food_consumption to get the rows where food_category is 'rice'.\n",
    "rice_consumption = food_consumption[food_consumption['food_category'] == 'rice']"
   ]
  },
  {
   "cell_type": "code",
   "execution_count": 20,
   "metadata": {},
   "outputs": [
    {
     "data": {
      "image/png": "[encoded data removed]",
      "text/plain": [
       "<Figure size 640x480 with 1 Axes>"
      ]
     },
     "metadata": {},
     "output_type": "display_data"
    }
   ],
   "source": [
    "# Create a histogram of co2_emission for rice and show the plot.\n",
    "plt.hist(rice_consumption['co2_emission'])\n",
    "plt.xlabel('CO2 Emission')\n",
    "plt.ylabel('Frequency')\n",
    "plt.title('Histogram of CO2 Emission for Rice')\n",
    "plt.show()"
   ]
  },
  {
   "cell_type": "code",
   "execution_count": 21,
   "metadata": {},
   "outputs": [
    {
     "name": "stdout",
     "output_type": "stream",
     "text": [
      "mean      37.591615\n",
      "median    15.200000\n",
      "Name: co2_emission, dtype: float64\n"
     ]
    }
   ],
   "source": [
    "# Calculate mean and median of co2_emission with .agg()\n",
    "print(rice_consumption['co2_emission'].agg(['mean', 'median']))"
   ]
  },
  {
   "cell_type": "code",
   "execution_count": 28,
   "metadata": {},
   "outputs": [
    {
     "name": "stdout",
     "output_type": "stream",
     "text": [
      "Q1 (25th percentile): 5.21\n",
      "Median (50th percentile): 16.53\n",
      "Q3 (75th percentile): 62.597500000000004\n"
     ]
    }
   ],
   "source": [
    "# Calculate the quartiles of the co2_emission column of food_consumption.\n",
    "# Calculate the quartiles of co2_emission\n",
    "q1 = food_consumption['co2_emission'].quantile(0.25)\n",
    "median = food_consumption['co2_emission'].quantile(0.50)  \n",
    "q3 = food_consumption['co2_emission'].quantile(0.75)\n",
    "\n",
    "print(\"Q1 (25th percentile):\", q1)\n",
    "print(\"Median (50th percentile):\", median)\n",
    "print(\"Q3 (75th percentile):\", q3)"
   ]
  },
  {
   "cell_type": "code",
   "execution_count": null,
   "metadata": {},
   "outputs": [],
   "source": []
  },
  {
   "cell_type": "code",
   "execution_count": 34,
   "metadata": {},
   "outputs": [
    {
     "data": {
      "text/html": [
       "<div>\n",
       "<style scoped>\n",
       "    .dataframe tbody tr th:only-of-type {\n",
       "        vertical-align: middle;\n",
       "    }\n",
       "\n",
       "    .dataframe tbody tr th {\n",
       "        vertical-align: top;\n",
       "    }\n",
       "\n",
       "    .dataframe thead th {\n",
       "        text-align: right;\n",
       "    }\n",
       "</style>\n",
       "<table border=\"1\" class=\"dataframe\">\n",
       "  <thead>\n",
       "    <tr style=\"text-align: right;\">\n",
       "      <th></th>\n",
       "      <th>Unnamed: 0</th>\n",
       "      <th>consumption</th>\n",
       "      <th>co2_emission</th>\n",
       "    </tr>\n",
       "  </thead>\n",
       "  <tbody>\n",
       "    <tr>\n",
       "      <th>count</th>\n",
       "      <td>1430.000000</td>\n",
       "      <td>1430.000000</td>\n",
       "      <td>1430.000000</td>\n",
       "    </tr>\n",
       "    <tr>\n",
       "      <th>mean</th>\n",
       "      <td>715.500000</td>\n",
       "      <td>28.110406</td>\n",
       "      <td>74.383993</td>\n",
       "    </tr>\n",
       "    <tr>\n",
       "      <th>std</th>\n",
       "      <td>412.949755</td>\n",
       "      <td>49.818044</td>\n",
       "      <td>152.098566</td>\n",
       "    </tr>\n",
       "    <tr>\n",
       "      <th>min</th>\n",
       "      <td>1.000000</td>\n",
       "      <td>0.000000</td>\n",
       "      <td>0.000000</td>\n",
       "    </tr>\n",
       "    <tr>\n",
       "      <th>25%</th>\n",
       "      <td>358.250000</td>\n",
       "      <td>2.365000</td>\n",
       "      <td>5.210000</td>\n",
       "    </tr>\n",
       "    <tr>\n",
       "      <th>50%</th>\n",
       "      <td>715.500000</td>\n",
       "      <td>8.890000</td>\n",
       "      <td>16.530000</td>\n",
       "    </tr>\n",
       "    <tr>\n",
       "      <th>75%</th>\n",
       "      <td>1072.750000</td>\n",
       "      <td>28.132500</td>\n",
       "      <td>62.597500</td>\n",
       "    </tr>\n",
       "    <tr>\n",
       "      <th>max</th>\n",
       "      <td>1430.000000</td>\n",
       "      <td>430.760000</td>\n",
       "      <td>1712.000000</td>\n",
       "    </tr>\n",
       "  </tbody>\n",
       "</table>\n",
       "</div>"
      ],
      "text/plain": [
       "        Unnamed: 0  consumption  co2_emission\n",
       "count  1430.000000  1430.000000   1430.000000\n",
       "mean    715.500000    28.110406     74.383993\n",
       "std     412.949755    49.818044    152.098566\n",
       "min       1.000000     0.000000      0.000000\n",
       "25%     358.250000     2.365000      5.210000\n",
       "50%     715.500000     8.890000     16.530000\n",
       "75%    1072.750000    28.132500     62.597500\n",
       "max    1430.000000   430.760000   1712.000000"
      ]
     },
     "execution_count": 34,
     "metadata": {},
     "output_type": "execute_result"
    }
   ],
   "source": [
    "# atau bisa dengan\n",
    "\n",
    "food_consumption.describe()"
   ]
  },
  {
   "cell_type": "code",
   "execution_count": 52,
   "metadata": {},
   "outputs": [
    {
     "name": "stdout",
     "output_type": "stream",
     "text": [
      "1st Quintile (20th percentile): 3.54\n",
      "2nd Quintile (40th percentile): 11.026\n",
      "3rd Quintile (60th percentile): 25.59\n",
      "4th Quintile (80th percentile): 99.978\n",
      "5th Quintile (80th percentile): 1712.0\n"
     ]
    }
   ],
   "source": [
    "# Calculate the six quantiles that split up the data into 5 pieces (quintiles) of the co2_emission column of food_consumption.\n",
    "# Calculate the quintiles of co2_emission\n",
    "\n",
    "# Calculate the quintiles (0.2, 0.4, 0.6, and 0.8 quantiles)\n",
    "quintiles = food_consumption['co2_emission'].quantile([0.2, 0.4, 0.6, 0.8,1])\n",
    "\n",
    "print(\"1st Quintile (20th percentile):\", quintiles[0.2])\n",
    "print(\"2nd Quintile (40th percentile):\", quintiles[0.4])\n",
    "print(\"3rd Quintile (60th percentile):\", quintiles[0.6])\n",
    "print(\"4th Quintile (80th percentile):\", quintiles[0.8])\n",
    "print(\"5th Quintile (80th percentile):\", quintiles[1])\n"
   ]
  },
  {
   "cell_type": "code",
   "execution_count": 36,
   "metadata": {},
   "outputs": [
    {
     "name": "stdout",
     "output_type": "stream",
     "text": [
      "1th Decile (10th percentile): 0.6680000000000001\n",
      "2th Decile (20th percentile): 3.54\n",
      "3th Decile (30th percentile): 7.04\n",
      "4th Decile (40th percentile): 11.026\n",
      "5th Decile (50th percentile): 16.53\n",
      "6th Decile (60th percentile): 25.59\n",
      "7th Decile (70th percentile): 44.27099999999998\n",
      "8th Decile (80th percentile): 99.978\n",
      "9th Decile (90th percentile): 203.62900000000002\n"
     ]
    }
   ],
   "source": [
    "# Calculate the eleven quantiles of co2_emission that split up the data into ten pieces (deciles).\n",
    "# Calculate the deciles of co2_emission\n",
    "\n",
    "deciles = food_consumption['co2_emission'].quantile([0.1, 0.2, 0.3, 0.4, 0.5, 0.6, 0.7, 0.8, 0.9])\n",
    "\n",
    "# Print the deciles\n",
    "for i in range(1, 10):\n",
    "    print(f\"{i}th Decile ({i * 10}th percentile):\", deciles.iloc[i - 1])"
   ]
  },
  {
   "cell_type": "code",
   "execution_count": 37,
   "metadata": {},
   "outputs": [
    {
     "name": "stdout",
     "output_type": "stream",
     "text": [
      "                        var         std\n",
      "food_category                          \n",
      "beef           88748.408132  297.906710\n",
      "dairy          17671.891985  132.935669\n",
      "eggs              21.371819    4.622966\n",
      "fish             921.637349   30.358481\n",
      "lamb_goat      16475.518363  128.356996\n",
      "nuts              35.639652    5.969895\n",
      "pork            3094.963537   55.632396\n",
      "poultry          245.026801   15.653332\n",
      "rice            2281.376243   47.763754\n",
      "soybeans           0.879882    0.938020\n",
      "wheat             71.023937    8.427570\n"
     ]
    }
   ],
   "source": [
    "# Print variance and sd of co2_emission for each food_category\n",
    "print(food_consumption.groupby('food_category')['co2_emission'].agg(['var', 'std']))\n"
   ]
  },
  {
   "cell_type": "code",
   "execution_count": 38,
   "metadata": {},
   "outputs": [
    {
     "name": "stderr",
     "output_type": "stream",
     "text": [
      "<__array_function__ internals>:200: RuntimeWarning: Converting input from bool to <class 'numpy.uint8'> for compatibility.\n"
     ]
    },
    {
     "data": {
      "image/png": "[encoded data removed]",
      "text/plain": [
       "<Figure size 640x480 with 1 Axes>"
      ]
     },
     "metadata": {},
     "output_type": "display_data"
    }
   ],
   "source": [
    "# Create histogram of co2_emission for food_category 'beef'\n",
    "\n",
    "plt.hist(food_consumption['co2_emission'] == 'beef')\n",
    "plt.xlabel('CO2 Emission')\n",
    "plt.ylabel('Frequency')\n",
    "plt.title('Histogram of CO2 Emission for Beef')\n",
    "\n",
    "# Show plot\n",
    "plt.show()"
   ]
  },
  {
   "cell_type": "code",
   "execution_count": 39,
   "metadata": {},
   "outputs": [
    {
     "data": {
      "image/png": "[encoded data removed]",
      "text/plain": [
       "<Figure size 640x480 with 1 Axes>"
      ]
     },
     "metadata": {},
     "output_type": "display_data"
    }
   ],
   "source": [
    "# Create histogram of co2_emission for food_category 'eggs'\n",
    "plt.hist(food_consumption['co2_emission'] == 'eggs')\n",
    "plt.xlabel('CO2 Emission')\n",
    "plt.ylabel('Frequency')\n",
    "plt.title('Histogram of CO2 Emission for eggs')\n",
    "\n",
    "# Show plot\n",
    "plt.show()"
   ]
  },
  {
   "cell_type": "code",
   "execution_count": 40,
   "metadata": {},
   "outputs": [
    {
     "name": "stdout",
     "output_type": "stream",
     "text": [
      "country\n",
      "Albania      1777.85\n",
      "Algeria       707.88\n",
      "Angola        412.99\n",
      "Argentina    2172.40\n",
      "Armenia      1109.93\n",
      "              ...   \n",
      "Uruguay      1634.91\n",
      "Venezuela    1104.10\n",
      "Vietnam       641.51\n",
      "Zambia        225.30\n",
      "Zimbabwe      350.33\n",
      "Name: co2_emission, Length: 130, dtype: float64\n"
     ]
    }
   ],
   "source": [
    "# Calculate total co2_emission per country: emissions_by_country\n",
    "\n",
    "emissions_by_country = food_consumption.groupby('country')['co2_emission'].sum()\n",
    "\n",
    "print(emissions_by_country)\n"
   ]
  },
  {
   "cell_type": "code",
   "execution_count": 41,
   "metadata": {},
   "outputs": [
    {
     "name": "stdout",
     "output_type": "stream",
     "text": [
      "Q1 (First Quartile): 446.66\n",
      "Q3 (Third Quartile): 1111.1525000000001\n",
      "IQR (Interquartile Range): 664.4925000000001\n"
     ]
    }
   ],
   "source": [
    "# Compute the first and third quartiles and IQR of emissions_by_country\n",
    "\n",
    "q1 = emissions_by_country.quantile(0.25)\n",
    "q3 = emissions_by_country.quantile(0.75)\n",
    "iqr = q3 - q1\n",
    "\n",
    "print(\"Q1 (First Quartile):\", q1)\n",
    "print(\"Q3 (Third Quartile):\", q3)\n",
    "print(\"IQR (Interquartile Range):\", iqr)\n"
   ]
  },
  {
   "cell_type": "code",
   "execution_count": 42,
   "metadata": {},
   "outputs": [
    {
     "name": "stdout",
     "output_type": "stream",
     "text": [
      "Lower Cutoff for Outliers: -550.0787500000001\n",
      "Upper Cutoff for Outliers: 2107.89125\n"
     ]
    }
   ],
   "source": [
    "# Calculate the lower and upper cutoffs for outliers\n",
    "\n",
    "lower = q1 - (1.5 * iqr)\n",
    "upper = q3 + (1.5 * iqr)\n",
    "\n",
    "print(\"Lower Cutoff for Outliers:\", lower)\n",
    "print(\"Upper Cutoff for Outliers:\", upper)"
   ]
  },
  {
   "cell_type": "code",
   "execution_count": 53,
   "metadata": {},
   "outputs": [
    {
     "data": {
      "text/plain": [
       "country\n",
       "Argentina    2172.4\n",
       "Name: co2_emission, dtype: float64"
      ]
     },
     "execution_count": 53,
     "metadata": {},
     "output_type": "execute_result"
    }
   ],
   "source": [
    "# Subset emissions_by_country to get countries with a total emission greater than the upper cutoff or a total emission less than the lower cutoff.\n",
    "# Subset emissions_by_country to find outliers\n",
    "outliers = emissions_by_country[(emissions_by_country < lower) | (emissions_by_country > upper)]\n",
    "outliers"
   ]
  }
 ],
 "metadata": {
  "kernelspec": {
   "display_name": "base",
   "language": "python",
   "name": "python3"
  },
  "language_info": {
   "codemirror_mode": {
    "name": "ipython",
    "version": 3
   },
   "file_extension": ".py",
   "mimetype": "text/x-python",
   "name": "python",
   "nbconvert_exporter": "python",
   "pygments_lexer": "ipython3",
   "version": "3.11.4"
  },
  "orig_nbformat": 2
 },
 "nbformat": 4,
 "nbformat_minor": 2
}
